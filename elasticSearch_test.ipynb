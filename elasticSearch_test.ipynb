{
 "cells": [
  {
   "cell_type": "code",
   "execution_count": 3,
   "metadata": {},
   "outputs": [
    {
     "name": "stderr",
     "output_type": "stream",
     "text": [
      "/var/folders/2w/p0zgpvps62gb8jlzgy_v7zgh0000gn/T/ipykernel_4660/1731977728.py:28: ElasticsearchWarning: Elasticsearch built-in security features are not enabled. Without authentication, your cluster could be accessible to anyone. See https://www.elastic.co/guide/en/elasticsearch/reference/7.17/security-minimal-setup.html to enable security.\n",
      "  if es.indices.exists(index=index_name):\n"
     ]
    },
    {
     "name": "stdout",
     "output_type": "stream",
     "text": [
      "✅ 인덱스 'law-index'가 생성되었습니다.\n"
     ]
    },
    {
     "name": "stderr",
     "output_type": "stream",
     "text": [
      "/var/folders/2w/p0zgpvps62gb8jlzgy_v7zgh0000gn/T/ipykernel_4660/1731977728.py:32: ElasticsearchWarning: Parameter [similarity] has no effect on type [dense_vector] and will be removed in future\n",
      "  es.indices.create(index=index_name, body=mapping)\n",
      "/var/folders/2w/p0zgpvps62gb8jlzgy_v7zgh0000gn/T/ipykernel_4660/1731977728.py:32: ElasticsearchWarning: Parameter [index] has no effect on type [dense_vector] and will be removed in future\n",
      "  es.indices.create(index=index_name, body=mapping)\n",
      "/var/folders/2w/p0zgpvps62gb8jlzgy_v7zgh0000gn/T/ipykernel_4660/1731977728.py:32: ElasticsearchWarning: Elasticsearch built-in security features are not enabled. Without authentication, your cluster could be accessible to anyone. See https://www.elastic.co/guide/en/elasticsearch/reference/7.17/security-minimal-setup.html to enable security.\n",
      "  es.indices.create(index=index_name, body=mapping)\n"
     ]
    }
   ],
   "source": [
    "from elasticsearch import Elasticsearch\n",
    "\n",
    "es = Elasticsearch(\"http://localhost:9200\")  # 또는 본인 ES 주소\n",
    "\n",
    "index_name = \"law-index\"\n",
    "\n",
    "mapping = {\n",
    "    \"settings\": {\n",
    "        \"number_of_shards\": 1,\n",
    "        \"number_of_replicas\": 0\n",
    "    },\n",
    "    \"mappings\": {\n",
    "        \"properties\": {\n",
    "            \"text\": {\"type\": \"text\"},\n",
    "            \"article\": {\"type\": \"keyword\"},\n",
    "            \"source\": {\"type\": \"keyword\"},\n",
    "            \"embedding\": {\n",
    "                \"type\": \"dense_vector\",\n",
    "                \"dims\": 768,  # 사용하는 임베딩 차원\n",
    "                \"index\": True,\n",
    "                \"similarity\": \"cosine\"\n",
    "            }\n",
    "        }\n",
    "    }\n",
    "}\n",
    "\n",
    "# 기존 인덱스 삭제 (선택)\n",
    "if es.indices.exists(index=index_name):\n",
    "    es.indices.delete(index=index_name)\n",
    "\n",
    "# 새 인덱스 생성\n",
    "es.indices.create(index=index_name, body=mapping)\n",
    "print(f\"✅ 인덱스 '{index_name}'가 생성되었습니다.\")"
   ]
  },
  {
   "cell_type": "code",
   "execution_count": 4,
   "metadata": {},
   "outputs": [],
   "source": [
    "from elasticsearch import Elasticsearch\n",
    "from uuid import uuid4\n",
    "\n",
    "es = Elasticsearch(\"http://localhost:9200\")\n",
    "\n",
    "def upload_documents_to_es(docs, embedding_model, index_name=\"law-index\"):\n",
    "    for doc in docs:\n",
    "        text = doc.page_content\n",
    "        article = doc.metadata.get(\"article\", \"\")\n",
    "        source = doc.metadata.get(\"source\", \"\")\n",
    "        embedding = embedding_model.embed_query(text)\n",
    "\n",
    "        es.index(\n",
    "            index=index_name,\n",
    "            id=str(uuid4()),\n",
    "            body={\n",
    "                \"text\": text,\n",
    "                \"article\": article,\n",
    "                \"source\": source,\n",
    "                \"embedding\": embedding\n",
    "            }\n",
    "        )\n",
    "\n",
    "    print(f\"✅ {len(docs)}개의 문서가 Elasticsearch에 업로드되었습니다.\")"
   ]
  },
  {
   "cell_type": "code",
   "execution_count": 7,
   "metadata": {},
   "outputs": [
    {
     "name": "stderr",
     "output_type": "stream",
     "text": [
      "/var/folders/2w/p0zgpvps62gb8jlzgy_v7zgh0000gn/T/ipykernel_4660/2430443540.py:25: ElasticsearchWarning: Elasticsearch built-in security features are not enabled. Without authentication, your cluster could be accessible to anyone. See https://www.elastic.co/guide/en/elasticsearch/reference/7.17/security-minimal-setup.html to enable security.\n",
      "  if es.indices.exists(index=index_name):\n",
      "/var/folders/2w/p0zgpvps62gb8jlzgy_v7zgh0000gn/T/ipykernel_4660/2430443540.py:26: ElasticsearchWarning: Elasticsearch built-in security features are not enabled. Without authentication, your cluster could be accessible to anyone. See https://www.elastic.co/guide/en/elasticsearch/reference/7.17/security-minimal-setup.html to enable security.\n",
      "  es.indices.delete(index=index_name)\n"
     ]
    },
    {
     "name": "stdout",
     "output_type": "stream",
     "text": [
      "✅ law-index 인덱스 재생성 완료 (dense_vector 설정 수정됨)\n"
     ]
    },
    {
     "name": "stderr",
     "output_type": "stream",
     "text": [
      "/var/folders/2w/p0zgpvps62gb8jlzgy_v7zgh0000gn/T/ipykernel_4660/2430443540.py:27: ElasticsearchWarning: Elasticsearch built-in security features are not enabled. Without authentication, your cluster could be accessible to anyone. See https://www.elastic.co/guide/en/elasticsearch/reference/7.17/security-minimal-setup.html to enable security.\n",
      "  es.indices.create(index=index_name, body=mapping)\n"
     ]
    }
   ],
   "source": [
    "from elasticsearch import Elasticsearch\n",
    "\n",
    "es = Elasticsearch(\"http://localhost:9200\")\n",
    "index_name = \"law-index\"\n",
    "\n",
    "mapping = {\n",
    "    \"settings\": {\n",
    "        \"number_of_shards\": 1,\n",
    "        \"number_of_replicas\": 0\n",
    "    },\n",
    "    \"mappings\": {\n",
    "        \"properties\": {\n",
    "            \"text\": {\"type\": \"text\"},\n",
    "            \"article\": {\"type\": \"keyword\"},\n",
    "            \"source\": {\"type\": \"keyword\"},\n",
    "            \"embedding\": {\n",
    "                \"type\": \"dense_vector\",\n",
    "                \"dims\": 768  # ✅ index/similarity 제거\n",
    "            }\n",
    "        }\n",
    "    }\n",
    "}\n",
    "\n",
    "# 인덱스 삭제 후 재생성\n",
    "if es.indices.exists(index=index_name):\n",
    "    es.indices.delete(index=index_name)\n",
    "es.indices.create(index=index_name, body=mapping)\n",
    "print(\"✅ law-index 인덱스 재생성 완료 (dense_vector 설정 수정됨)\")"
   ]
  },
  {
   "cell_type": "code",
   "execution_count": 12,
   "metadata": {},
   "outputs": [
    {
     "name": "stdout",
     "output_type": "stream",
     "text": [
      "✅ law-index 인덱스 클린 재생성 완료!\n"
     ]
    },
    {
     "name": "stderr",
     "output_type": "stream",
     "text": [
      "/var/folders/2w/p0zgpvps62gb8jlzgy_v7zgh0000gn/T/ipykernel_4660/3982536225.py:7: ElasticsearchWarning: Elasticsearch built-in security features are not enabled. Without authentication, your cluster could be accessible to anyone. See https://www.elastic.co/guide/en/elasticsearch/reference/7.17/security-minimal-setup.html to enable security.\n",
      "  if es.indices.exists(index=index_name):\n",
      "/var/folders/2w/p0zgpvps62gb8jlzgy_v7zgh0000gn/T/ipykernel_4660/3982536225.py:8: ElasticsearchWarning: Elasticsearch built-in security features are not enabled. Without authentication, your cluster could be accessible to anyone. See https://www.elastic.co/guide/en/elasticsearch/reference/7.17/security-minimal-setup.html to enable security.\n",
      "  es.indices.delete(index=index_name)\n",
      "/var/folders/2w/p0zgpvps62gb8jlzgy_v7zgh0000gn/T/ipykernel_4660/3982536225.py:29: ElasticsearchWarning: Elasticsearch built-in security features are not enabled. Without authentication, your cluster could be accessible to anyone. See https://www.elastic.co/guide/en/elasticsearch/reference/7.17/security-minimal-setup.html to enable security.\n",
      "  es.indices.create(index=index_name, body=mapping)\n"
     ]
    }
   ],
   "source": [
    "from elasticsearch import Elasticsearch\n",
    "\n",
    "es = Elasticsearch(\"http://localhost:9200\")\n",
    "index_name = \"law-index\"\n",
    "\n",
    "# 🔁 인덱스 삭제\n",
    "if es.indices.exists(index=index_name):\n",
    "    es.indices.delete(index=index_name)\n",
    "\n",
    "# ✅ 수정된 매핑: 오직 dims만 포함\n",
    "mapping = {\n",
    "    \"settings\": {\n",
    "        \"number_of_shards\": 1,\n",
    "        \"number_of_replicas\": 0\n",
    "    },\n",
    "    \"mappings\": {\n",
    "        \"properties\": {\n",
    "            \"text\": {\"type\": \"text\"},\n",
    "            \"article\": {\"type\": \"keyword\"},\n",
    "            \"source\": {\"type\": \"keyword\"},\n",
    "            \"embedding\": {\n",
    "                \"type\": \"dense_vector\",\n",
    "                \"dims\": 1024  # ✅ 반드시 float list여야 함\n",
    "            }\n",
    "        }\n",
    "    }\n",
    "}\n",
    "\n",
    "es.indices.create(index=index_name, body=mapping)\n",
    "print(\"✅ law-index 인덱스 클린 재생성 완료!\")"
   ]
  },
  {
   "cell_type": "code",
   "execution_count": 13,
   "metadata": {},
   "outputs": [
    {
     "name": "stdout",
     "output_type": "stream",
     "text": [
      "sample_doc 길이: 179\n",
      "embedding 차원 수: 1024, 타입: <class 'float'>\n"
     ]
    },
    {
     "name": "stderr",
     "output_type": "stream",
     "text": [
      "/var/folders/2w/p0zgpvps62gb8jlzgy_v7zgh0000gn/T/ipykernel_4660/2113042547.py:8: ElasticsearchWarning: Elasticsearch built-in security features are not enabled. Without authentication, your cluster could be accessible to anyone. See https://www.elastic.co/guide/en/elasticsearch/reference/7.17/security-minimal-setup.html to enable security.\n",
      "  es.index(\n"
     ]
    },
    {
     "data": {
      "text/plain": [
       "ObjectApiResponse({'_index': 'law-index', '_type': '_doc', '_id': 'b6e41640-fc8f-4676-8b1c-220b040ddfbb', '_version': 1, 'result': 'created', '_shards': {'total': 1, 'successful': 1, 'failed': 0}, '_seq_no': 0, '_primary_term': 1})"
      ]
     },
     "execution_count": 13,
     "metadata": {},
     "output_type": "execute_result"
    }
   ],
   "source": [
    "sample_doc = stored['documents'][0]\n",
    "sample_meta = stored['metadatas'][0]\n",
    "sample_embedding = list(map(float, stored['embeddings'][0]))  # 꼭 float list로!\n",
    "\n",
    "print(f\"sample_doc 길이: {len(sample_doc)}\")\n",
    "print(f\"embedding 차원 수: {len(sample_embedding)}, 타입: {type(sample_embedding[0])}\")\n",
    "\n",
    "es.index(\n",
    "    index=index_name,\n",
    "    id=str(uuid4()),\n",
    "    body={\n",
    "        \"text\": sample_doc,\n",
    "        \"article\": sample_meta.get(\"article\", \"\"),\n",
    "        \"source\": sample_meta.get(\"source\", \"\"),\n",
    "        \"embedding\": sample_embedding\n",
    "    }\n",
    ")"
   ]
  },
  {
   "cell_type": "code",
   "execution_count": 14,
   "metadata": {},
   "outputs": [],
   "source": [
    "import numpy as np\n",
    "\n",
    "embedding_raw = stored['embeddings'][0]\n",
    "assert isinstance(embedding_raw, (list, np.ndarray))\n",
    "assert all(isinstance(x, (int, float)) for x in embedding_raw)\n",
    "assert len(embedding_raw) == 1024\n",
    "\n",
    "embedding_vector = list(map(float, embedding_raw))"
   ]
  },
  {
   "cell_type": "code",
   "execution_count": 15,
   "metadata": {},
   "outputs": [
    {
     "name": "stderr",
     "output_type": "stream",
     "text": [
      "/var/folders/2w/p0zgpvps62gb8jlzgy_v7zgh0000gn/T/ipykernel_4660/3603771970.py:5: ElasticsearchWarning: Elasticsearch built-in security features are not enabled. Without authentication, your cluster could be accessible to anyone. See https://www.elastic.co/guide/en/elasticsearch/reference/7.17/security-minimal-setup.html to enable security.\n",
      "  es.index(\n"
     ]
    },
    {
     "data": {
      "text/plain": [
       "ObjectApiResponse({'_index': 'law-index', '_type': '_doc', '_id': 'd000e6e3-bf8d-420a-9326-b732f4976444', '_version': 1, 'result': 'created', '_shards': {'total': 1, 'successful': 1, 'failed': 0}, '_seq_no': 1, '_primary_term': 1})"
      ]
     },
     "execution_count": 15,
     "metadata": {},
     "output_type": "execute_result"
    }
   ],
   "source": [
    "sample_doc = stored['documents'][0]\n",
    "sample_meta = stored['metadatas'][0]\n",
    "sample_embedding = list(map(float, stored['embeddings'][0]))\n",
    "\n",
    "es.index(\n",
    "    index=\"law-index\",\n",
    "    id=str(uuid4()),\n",
    "    body={\n",
    "        \"text\": sample_doc,\n",
    "        \"article\": sample_meta.get(\"article\", \"\"),\n",
    "        \"source\": sample_meta.get(\"source\", \"\"),\n",
    "        \"embedding\": sample_embedding\n",
    "    }\n",
    ")"
   ]
  },
  {
   "cell_type": "code",
   "execution_count": 16,
   "metadata": {},
   "outputs": [],
   "source": [
    "from langchain.vectorstores import Chroma\n",
    "from elasticsearch import Elasticsearch\n",
    "from uuid import uuid4\n",
    "\n",
    "CHROMA_DIR = \"chroma_data_folder_final_copy\"\n",
    "ES_URL = \"http://localhost:9200\"\n",
    "INDEX_NAME = \"law-index\"\n",
    "\n",
    "class DummyEmbedding:\n",
    "    def embed_documents(self, texts):\n",
    "        return [[0.0] * 768 for _ in texts]\n",
    "\n",
    "    def embed_query(self, text):\n",
    "        return [0.0] * 768\n",
    "\n",
    "chroma_store = Chroma(persist_directory=CHROMA_DIR, embedding_function=DummyEmbedding())\n",
    "collection = chroma_store._collection\n",
    "stored = collection.get(include=['documents', 'metadatas', 'embeddings'])\n",
    "\n",
    "es = Elasticsearch(ES_URL)\n",
    "\n",
    "from tqdm import tqdm\n",
    "\n",
    "for doc, meta, embedding in tqdm(zip(stored['documents'], stored['metadatas'], stored['embeddings']), total=len(stored['documents'])):\n",
    "    embedding_vector = list(map(float, embedding))  # ✅ 형 변환 추가\n",
    "\n",
    "    es.index(\n",
    "        index=INDEX_NAME,\n",
    "        id=str(uuid4()),\n",
    "        body={\n",
    "            \"text\": doc,\n",
    "            \"article\": meta.get(\"article\", \"\"),\n",
    "            \"source\": meta.get(\"source\", \"\"),\n",
    "            \"embedding\": embedding_vector\n",
    "        }\n",
    "    )\n",
    "\n",
    "print(f\"✅ 총 {len(stored['documents'])}개의 문서를 Elasticsearch로 마이그레이션 완료했습니다.\")"
   ]
  },
  {
   "cell_type": "code",
   "execution_count": 23,
   "metadata": {},
   "outputs": [
    {
     "name": "stdout",
     "output_type": "stream",
     "text": [
      "✅ law-index-v2 인덱스가 생성되었습니다.\n"
     ]
    }
   ],
   "source": [
    "from elasticsearch import Elasticsearch\n",
    "\n",
    "es = Elasticsearch(\"http://localhost:9200\")\n",
    "index_name = \"law-index-v2\"\n",
    "\n",
    "mapping = {\n",
    "    \"settings\": {\n",
    "        \"number_of_shards\": 1,\n",
    "        \"number_of_replicas\": 0\n",
    "    },\n",
    "    \"mappings\": {\n",
    "        \"properties\": {\n",
    "            \"text\": {\"type\": \"text\"},\n",
    "            \"article\": {\"type\": \"keyword\"},\n",
    "            \"source\": {\"type\": \"keyword\"},\n",
    "            \"embedding\": {\n",
    "                \"type\": \"dense_vector\",\n",
    "                \"dims\": 1024,  # 너의 embedding 차원 수\n",
    "                \"index\": True,\n",
    "                \"similarity\": \"cosine\"  # ES 8부터 지원됨\n",
    "            }\n",
    "        }\n",
    "    }\n",
    "}\n",
    "\n",
    "# 인덱스 삭제 후 재생성\n",
    "if es.indices.exists(index=index_name):\n",
    "    es.indices.delete(index=index_name)\n",
    "es.indices.create(index=index_name, body=mapping)\n",
    "print(\"✅ law-index-v2 인덱스가 생성되었습니다.\")"
   ]
  },
  {
   "cell_type": "code",
   "execution_count": 24,
   "metadata": {},
   "outputs": [
    {
     "name": "stderr",
     "output_type": "stream",
     "text": [
      "100%|██████████| 120730/120730 [10:44<00:00, 187.40it/s]"
     ]
    },
    {
     "name": "stdout",
     "output_type": "stream",
     "text": [
      "✅ 총 120730개 문서를 Elasticsearch 8로 마이그레이션 완료!\n"
     ]
    },
    {
     "name": "stderr",
     "output_type": "stream",
     "text": [
      "\n"
     ]
    }
   ],
   "source": [
    "from langchain.vectorstores import Chroma\n",
    "from elasticsearch import Elasticsearch\n",
    "from uuid import uuid4\n",
    "from tqdm import tqdm\n",
    "\n",
    "# 설정\n",
    "CHROMA_DIR = \"chroma_data_folder_final_copy\"\n",
    "INDEX_NAME = \"law-index-v2\"\n",
    "ES_URL = \"http://localhost:9200\"\n",
    "\n",
    "# Dummy embedding (불러오기용)\n",
    "class DummyEmbedding:\n",
    "    def embed_documents(self, texts):\n",
    "        return [[0.0] * 768 for _ in texts]\n",
    "    def embed_query(self, text):\n",
    "        return [0.0] * 768\n",
    "\n",
    "# 1. Chroma에서 문서 불러오기\n",
    "chroma_store = Chroma(persist_directory=CHROMA_DIR, embedding_function=DummyEmbedding())\n",
    "collection = chroma_store._collection\n",
    "stored = collection.get(include=['documents', 'metadatas', 'embeddings'])\n",
    "\n",
    "# 2. Elasticsearch 연결\n",
    "es = Elasticsearch(ES_URL)\n",
    "\n",
    "# 3. 마이그레이션 실행\n",
    "for doc, meta, embedding in tqdm(zip(stored['documents'], stored['metadatas'], stored['embeddings']), total=len(stored['documents'])):\n",
    "    if not isinstance(embedding, list):\n",
    "        embedding = list(embedding)  # numpy array일 경우\n",
    "    embedding = list(map(float, embedding))  # float 변환\n",
    "\n",
    "    es.index(\n",
    "        index=INDEX_NAME,\n",
    "        id=str(uuid4()),\n",
    "        body={\n",
    "            \"text\": doc,\n",
    "            \"article\": meta.get(\"article\", \"\"),\n",
    "            \"source\": meta.get(\"source\", \"\"),\n",
    "            \"embedding\": embedding\n",
    "        }\n",
    "    )\n",
    "\n",
    "print(f\"✅ 총 {len(stored['documents'])}개 문서를 Elasticsearch 8로 마이그레이션 완료!\")"
   ]
  },
  {
   "cell_type": "code",
   "execution_count": 1,
   "metadata": {},
   "outputs": [],
   "source": [
    "import torch\n",
    "from sentence_transformers import SentenceTransformer\n",
    "from transformers import AutoTokenizer, AutoModelForSequenceClassification\n",
    "from langchain_core.prompts import ChatPromptTemplate\n",
    "from langchain_core.output_parsers import StrOutputParser\n",
    "from langchain_openai import ChatOpenAI\n",
    "from elasticsearch import Elasticsearch\n",
    "from operator import itemgetter\n",
    "\n",
    "RAG_PROMPT_TEMPLATE = (\n",
    "\"\"\"\n",
    "절대 한국어로만 답변하십시오. 영어를 사용하지 마십시오.  \n",
    "You must always respond in Korean. Do not use English.  \n",
    "\n",
    "당신은 대한민국 현행 법령을 기반으로 답변하는 RAG 챗봇입니다.  \n",
    "아래 지침을 따르고, 명확하고 간결한 답변을 제공하세요.\n",
    "\n",
    "- 질문이 단순하면 한 문장으로 답변하세요.  \n",
    "- 질문이 복잡하면 2~3문장 이내로 답변하세요.  \n",
    "- 법 조항을 직접 나열하지 말고, 질문과 관련된 핵심 내용을 요약하여 자연스럽게 설명하세요.  \n",
    "- 각 문장에 해당하는 법적 근거 조항을 괄호 안에 정확히 명시하세요. (예: 도로교통법 제12조 제1항)  \n",
    "- 질문을 반복하지 말고, 불필요한 형식적인 표현을 포함하지 마세요.  \n",
    "- **정확도, 확률, 신뢰도 같은 수치를 답변에 절대 포함하지 마세요.**  \n",
    "- Context 내에서만 답변을 생성하고, 모르는 내용은 \\\"제가 제공할 수 있는 정보가 없습니다.\\\"라고만 답변하세요.  \n",
    "\n",
    "{question}에 대한 답변을 다음 Context를 참고하여 작성하세요.\n",
    "\n",
    "Context:  \n",
    "{context}  \n",
    "\n",
    "답변:\n",
    "\"\"\"\n",
    ")\n",
    "\n",
    "SYS_PROMPT_TEMPLATE = (\n",
    "\"\"\"\n",
    "당신은 대한민국 현행 법령을 기반으로 작동하는 RAG 챗봇입니다.  \n",
    "절대 한국어로만 답변하십시오. 영어를 사용하지 마십시오.  \n",
    "\n",
    "답변을 생성할 때, 다음 원칙을 따르세요.\n",
    "\n",
    "1. **간결한 답변 제공**  \n",
    "   - 단순한 질문 → 한 문장  \n",
    "   - 복잡한 질문 → 2~3문장  \n",
    "   - 불필요한 설명, 배경 정보, 반복 표현 금지  \n",
    "\n",
    "2. **법 조항 요약 방식**  \n",
    "   - 법 조항을 직접 나열하지 않고 질문과 관련된 핵심 내용을 요약  \n",
    "   - 각 문장에 해당하는 법적 근거 조항을 괄호 안에 명확히 표기 (예: 도로교통법 제17조 제2항)\n",
    "\n",
    "3. **불필요한 정보 제한**  \n",
    "   - \\\"정확도\\\", \\\"신뢰도\\\", \\\"확률\\\" 등의 수치는 절대 포함 금지  \n",
    "   - \\\"또한\\\", \\\"추가로\\\", \\\"이 외에도\\\"와 같은 확장 표현 사용 금지  \n",
    "\n",
    "4. **추론 및 임의 해석 금지**  \n",
    "   - 제공된 Context 범위 내에서만 답변 작성  \n",
    "   - 필요한 정보가 없으면 \\\"제가 제공할 수 있는 정보가 없습니다.\\\"라고만 답변  \n",
    "\"\"\"\n",
    ")\n",
    "\n",
    "DEVICE = \"cpu\"\n",
    "\n",
    "class SentenceTransformerEmbedding:\n",
    "    def __init__(self, model_name):\n",
    "        self.model = SentenceTransformer(model_name, trust_remote_code=True, device=DEVICE)\n",
    "\n",
    "    def embed_query(self, text):\n",
    "        return self.model.encode([text], convert_to_tensor=True).cpu().tolist()[0]\n",
    "\n",
    "\n",
    "class ReRanker:\n",
    "    def __init__(self, model_name):\n",
    "        self.tokenizer = AutoTokenizer.from_pretrained(model_name)\n",
    "        self.reranker = AutoModelForSequenceClassification.from_pretrained(model_name).to(\"mps\" if torch.backends.mps.is_available() else \"cpu\")\n",
    "\n",
    "    def re_rank(self, query, docs):\n",
    "        if not docs:\n",
    "            return []\n",
    "\n",
    "        inputs = self.tokenizer([(query, doc) for doc in docs], padding=True, truncation=True, return_tensors='pt').to(\"mps\" if torch.backends.mps.is_available() else \"cpu\")\n",
    "\n",
    "        with torch.no_grad():\n",
    "            scores = self.reranker(**inputs).logits.squeeze(-1).cpu()\n",
    "\n",
    "        return [doc for _, doc in sorted(zip(scores, docs), reverse=True)]\n",
    "\n",
    "\n",
    "class ElasticsearchHybridRetriever:\n",
    "    def __init__(self, index_name, embedding_model):\n",
    "        self.index = index_name\n",
    "        self.es = Elasticsearch(\"http://localhost:9200\")\n",
    "        self.embedder = embedding_model\n",
    "\n",
    "    def retrieve_bm25_only(self, query, k=10):\n",
    "        bm25_query = {\n",
    "            \"size\": k,\n",
    "            \"query\": {\n",
    "                \"match\": {\n",
    "                    \"text\": query\n",
    "                }\n",
    "            }\n",
    "        }\n",
    "        results = self.es.search(index=self.index, body=bm25_query)[\"hits\"][\"hits\"]\n",
    "        return [hit[\"_source\"][\"text\"] for hit in results]\n",
    "\n",
    "    def retrieve_knn_only(self, query, k=10):\n",
    "        query_vector = self.embedder.embed_query(query)\n",
    "        knn_query = {\n",
    "            \"size\": k,\n",
    "            \"knn\": {\n",
    "                \"field\": \"embedding\",\n",
    "                \"k\": k,\n",
    "                \"num_candidates\": k * 2,\n",
    "                \"query_vector\": query_vector\n",
    "            }\n",
    "        }\n",
    "        results = self.es.search(index=self.index, body=knn_query)[\"hits\"][\"hits\"]\n",
    "        return [hit[\"_source\"][\"text\"] for hit in results]\n",
    "\n",
    "    def retrieve(self, query, k=10):\n",
    "        bm25_docs = self.retrieve_bm25_only(query, k)\n",
    "        knn_docs = self.retrieve_knn_only(query, k)\n",
    "        combined = {doc: None for doc in bm25_docs + knn_docs}  # dedup\n",
    "        return list(combined.keys())\n",
    "\n",
    "\n",
    "def setup_rag_system_with_reranker(llm_base_url):\n",
    "    llm = ChatOpenAI(\n",
    "        base_url=llm_base_url,\n",
    "        api_key=\"lm-studio\",\n",
    "        model=\"teddylee777/EEVE-Korean-Instruct-10.8B-v1.0-gguf\",\n",
    "        temperature=0.2,\n",
    "    )\n",
    "    prompt_template = ChatPromptTemplate.from_messages([\n",
    "        (\"system\", SYS_PROMPT_TEMPLATE),\n",
    "        (\"user\", RAG_PROMPT_TEMPLATE),\n",
    "    ])\n",
    "    rag_chain = prompt_template | llm | StrOutputParser()\n",
    "    return llm, rag_chain\n",
    "\n",
    "\n",
    "def run_pipeline(question, llm_base_url=\"http://localhost:1234/v1\", index_name=\"law-index-v2\", embedding_model_name=\"jinaai/jina-embeddings-v3\", reranker_model_name=\"BAAI/bge-reranker-base\"):\n",
    "    if not question.strip():\n",
    "        return \"질문을 입력해주세요.\", [], []\n",
    "\n",
    "    embedding_model = SentenceTransformerEmbedding(embedding_model_name)\n",
    "    retriever = ElasticsearchHybridRetriever(index_name, embedding_model)\n",
    "    reranker = ReRanker(reranker_model_name)\n",
    "\n",
    "    retrieved_docs = retriever.retrieve(question)\n",
    "    if not retrieved_docs:\n",
    "        return \"제가 제공할 수 있는 정보가 없습니다.\", [], []\n",
    "\n",
    "    ranked_docs = reranker.re_rank(question, retrieved_docs)\n",
    "    if not ranked_docs:\n",
    "        return \"제가 제공할 수 있는 정보가 없습니다.\", retrieved_docs, []\n",
    "\n",
    "    context = \" \".join(ranked_docs)\n",
    "    llm, rag_chain = setup_rag_system_with_reranker(llm_base_url)\n",
    "    response = rag_chain.invoke({\"question\": question, \"context\": context})\n",
    "    return response, retrieved_docs, ranked_docs"
   ]
  },
  {
   "cell_type": "code",
   "execution_count": 7,
   "metadata": {},
   "outputs": [],
   "source": [
    "# hybird Search 가중치 조절\n",
    "\n",
    "\n",
    "import torch\n",
    "from sentence_transformers import SentenceTransformer\n",
    "from transformers import AutoTokenizer, AutoModelForSequenceClassification\n",
    "from langchain_core.prompts import ChatPromptTemplate\n",
    "from langchain_core.output_parsers import StrOutputParser\n",
    "from langchain_openai import ChatOpenAI\n",
    "from elasticsearch import Elasticsearch\n",
    "from operator import itemgetter\n",
    "\n",
    "RAG_PROMPT_TEMPLATE = (\n",
    "\"\"\"\n",
    "절대 한국어로만 답변하십시오. 영어를 사용하지 마십시오.  \n",
    "You must always respond in Korean. Do not use English.  \n",
    "\n",
    "당신은 대한민국 현행 법령을 기반으로 답변하는 RAG 챗봇입니다.  \n",
    "아래 지침을 따르고, 명확하고 간결한 답변을 제공하세요.\n",
    "\n",
    "- 질문이 단순하면 한 문장으로 답변하세요.  \n",
    "- 질문이 복잡하면 2~3문장 이내로 답변하세요.  \n",
    "- 법 조항을 직접 나열하지 말고, 질문과 관련된 핵심 내용을 요약하여 자연스럽게 설명하세요.  \n",
    "- 각 문장에 해당하는 법적 근거 조항을 괄호 안에 정확히 명시하세요. (예: 도로교통법 제12조 제1항)  \n",
    "- 질문을 반복하지 말고, 불필요한 형식적인 표현을 포함하지 마세요.  \n",
    "- **정확도, 확률, 신뢰도 같은 수치를 답변에 절대 포함하지 마세요.**  \n",
    "- Context 내에서만 답변을 생성하고, 모르는 내용은 \\\"제가 제공할 수 있는 정보가 없습니다.\\\"라고만 답변하세요.  \n",
    "\n",
    "{question}에 대한 답변을 다음 Context를 참고하여 작성하세요.\n",
    "\n",
    "Context:  \n",
    "{context}  \n",
    "\n",
    "답변:\n",
    "\"\"\"\n",
    ")\n",
    "\n",
    "SYS_PROMPT_TEMPLATE = (\n",
    "\"\"\"\n",
    "당신은 대한민국 현행 법령을 기반으로 작동하는 RAG 챗봇입니다.  \n",
    "절대 한국어로만 답변하십시오. 영어를 사용하지 마십시오.  \n",
    "\n",
    "답변을 생성할 때, 다음 원칙을 따르세요.\n",
    "\n",
    "1. **간결한 답변 제공**  \n",
    "   - 단순한 질문 → 한 문장  \n",
    "   - 복잡한 질문 → 2~3문장  \n",
    "   - 불필요한 설명, 배경 정보, 반복 표현 금지  \n",
    "\n",
    "2. **법 조항 요약 방식**  \n",
    "   - 법 조항을 직접 나열하지 않고 질문과 관련된 핵심 내용을 요약  \n",
    "   - 각 문장에 해당하는 법적 근거 조항을 괄호 안에 명확히 표기 (예: 도로교통법 제17조 제2항)\n",
    "\n",
    "3. **불필요한 정보 제한**  \n",
    "   - \\\"정확도\\\", \\\"신뢰도\\\", \\\"확률\\\" 등의 수치는 절대 포함 금지  \n",
    "   - \\\"또한\\\", \\\"추가로\\\", \\\"이 외에도\\\"와 같은 확장 표현 사용 금지  \n",
    "\n",
    "4. **추론 및 임의 해석 금지**  \n",
    "   - 제공된 Context 범위 내에서만 답변 작성  \n",
    "   - 필요한 정보가 없으면 \\\"제가 제공할 수 있는 정보가 없습니다.\\\"라고만 답변  \n",
    "\"\"\"\n",
    ")\n",
    "\n",
    "DEVICE = \"cpu\"\n",
    "\n",
    "class SentenceTransformerEmbedding:\n",
    "    def __init__(self, model_name):\n",
    "        self.model = SentenceTransformer(model_name, trust_remote_code=True, device=DEVICE)\n",
    "\n",
    "    def embed_query(self, text):\n",
    "        return self.model.encode([text], convert_to_tensor=True).cpu().tolist()[0]\n",
    "\n",
    "\n",
    "class ReRanker:\n",
    "    def __init__(self, model_name):\n",
    "        self.tokenizer = AutoTokenizer.from_pretrained(model_name)\n",
    "        self.reranker = AutoModelForSequenceClassification.from_pretrained(model_name).to(\"mps\" if torch.backends.mps.is_available() else \"cpu\")\n",
    "\n",
    "    def re_rank(self, query, docs):\n",
    "        if not docs:\n",
    "            return []\n",
    "\n",
    "        inputs = self.tokenizer([(query, doc) for doc in docs], padding=True, truncation=True, return_tensors='pt').to(\"mps\" if torch.backends.mps.is_available() else \"cpu\")\n",
    "\n",
    "        with torch.no_grad():\n",
    "            scores = self.reranker(**inputs).logits.squeeze(-1).cpu()\n",
    "\n",
    "        return [doc for _, doc in sorted(zip(scores, docs), reverse=True)]\n",
    "\n",
    "\n",
    "class ElasticsearchHybridRetriever:\n",
    "    def __init__(self, index_name, embedding_model):\n",
    "        self.index = index_name\n",
    "        self.es = Elasticsearch(\"http://localhost:9200\")\n",
    "        self.embedder = embedding_model\n",
    "\n",
    "    def retrieve_bm25_only(self, query, k=10):\n",
    "        bm25_query = {\n",
    "            \"size\": k,\n",
    "            \"query\": {\n",
    "                \"match\": {\n",
    "                    \"text\": query\n",
    "                }\n",
    "            }\n",
    "        }\n",
    "        results = self.es.search(index=self.index, body=bm25_query)[\"hits\"][\"hits\"]\n",
    "        return [hit[\"_source\"][\"text\"] for hit in results]\n",
    "\n",
    "    def retrieve_knn_only(self, query, k=10):\n",
    "        query_vector = self.embedder.embed_query(query)\n",
    "        knn_query = {\n",
    "            \"size\": k,\n",
    "            \"knn\": {\n",
    "                \"field\": \"embedding\",\n",
    "                \"k\": k,\n",
    "                \"num_candidates\": k * 2,\n",
    "                \"query_vector\": query_vector\n",
    "            }\n",
    "        }\n",
    "        results = self.es.search(index=self.index, body=knn_query)[\"hits\"][\"hits\"]\n",
    "        return [hit[\"_source\"][\"text\"] for hit in results]\n",
    "\n",
    "    def retrieve(self, query, k=10):\n",
    "        # 단순 병합 (기존 방식)\n",
    "        bm25_docs = self.retrieve_bm25_only(query, k)\n",
    "        knn_docs = self.retrieve_knn_only(query, k)\n",
    "        combined = {doc: None for doc in bm25_docs + knn_docs}  # dedup\n",
    "        return list(combined.keys())\n",
    "\n",
    "    def hybrid_retrieve(self, query, k=10, alpha=0.3):\n",
    "        \"\"\"\n",
    "        Elasticsearch 8.x 기반 하이브리드 검색 (BM25 + dense vector)\n",
    "        alpha: BM25 가중치 (0.0 ~ 1.0), 나머지는 dense 가중치\n",
    "        \"\"\"\n",
    "        query_vector = self.embedder.embed_query(query)\n",
    "        query_body = {\n",
    "            \"size\": k,\n",
    "            \"query\": {\n",
    "                \"script_score\": {\n",
    "                    \"query\": {\n",
    "                        \"match\": {\n",
    "                            \"text\": query\n",
    "                        }\n",
    "                    },\n",
    "                    \"script\": {\n",
    "                        \"source\": f\"{alpha} * _score + {(1 - alpha)} * cosineSimilarity(params.query_vector, 'embedding') + 1.0\",\n",
    "                        \"params\": {\n",
    "                            \"query_vector\": query_vector\n",
    "                        }\n",
    "                    }\n",
    "                }\n",
    "            }\n",
    "        }\n",
    "        results = self.es.search(index=self.index, body=query_body)[\"hits\"][\"hits\"]\n",
    "        return [hit[\"_source\"][\"text\"] for hit in results]\n",
    "\n",
    "\n",
    "def setup_rag_system_with_reranker(llm_base_url):\n",
    "    llm = ChatOpenAI(\n",
    "        base_url=llm_base_url,\n",
    "        api_key=\"lm-studio\",\n",
    "        model=\"teddylee777/EEVE-Korean-Instruct-10.8B-v1.0-gguf\",\n",
    "        temperature=0.2,\n",
    "    )\n",
    "    prompt_template = ChatPromptTemplate.from_messages([\n",
    "        (\"system\", SYS_PROMPT_TEMPLATE),\n",
    "        (\"user\", RAG_PROMPT_TEMPLATE),\n",
    "    ])\n",
    "    rag_chain = prompt_template | llm | StrOutputParser()\n",
    "    return llm, rag_chain\n",
    "\n",
    "\n",
    "def run_pipeline(question, llm_base_url=\"http://localhost:1234/v1\", index_name=\"law-index-v2\", embedding_model_name=\"jinaai/jina-embeddings-v3\", reranker_model_name=\"BAAI/bge-reranker-base\"):\n",
    "    if not question.strip():\n",
    "        return \"질문을 입력해주세요.\", [], []\n",
    "\n",
    "    embedding_model = SentenceTransformerEmbedding(embedding_model_name)\n",
    "    retriever = ElasticsearchHybridRetriever(index_name, embedding_model)\n",
    "    reranker = ReRanker(reranker_model_name)\n",
    "\n",
    "    retrieved_docs = retriever.hybrid_retrieve(question, k=10, alpha=0.3)\n",
    "    if not retrieved_docs:\n",
    "        return \"제가 제공할 수 있는 정보가 없습니다.\", [], []\n",
    "\n",
    "    ranked_docs = reranker.re_rank(question, retrieved_docs)\n",
    "    if not ranked_docs:\n",
    "        return \"제가 제공할 수 있는 정보가 없습니다.\", retrieved_docs, []\n",
    "\n",
    "    context = \" \".join(ranked_docs)\n",
    "    llm, rag_chain = setup_rag_system_with_reranker(llm_base_url)\n",
    "    response = rag_chain.invoke({\"question\": question, \"context\": context})\n",
    "    return response, retrieved_docs, ranked_docs"
   ]
  },
  {
   "cell_type": "code",
   "execution_count": null,
   "metadata": {},
   "outputs": [],
   "source": []
  },
  {
   "cell_type": "code",
   "execution_count": null,
   "metadata": {},
   "outputs": [],
   "source": []
  },
  {
   "cell_type": "code",
   "execution_count": null,
   "metadata": {},
   "outputs": [],
   "source": []
  },
  {
   "cell_type": "code",
   "execution_count": null,
   "metadata": {},
   "outputs": [],
   "source": []
  },
  {
   "cell_type": "code",
   "execution_count": 8,
   "metadata": {},
   "outputs": [],
   "source": [
    "import pandas as pd\n",
    "\n",
    "simple_question = pd.read_csv('score_check/question/simple_questions_1.csv')\n",
    "complex_question = pd.read_csv('score_check/question/complex_questions_1.csv')"
   ]
  },
  {
   "cell_type": "code",
   "execution_count": 9,
   "metadata": {},
   "outputs": [],
   "source": [
    "simple_answer = []\n",
    "\n",
    "for i in simple_question['질문']:\n",
    "    response, retrieved_docs, ranked_docs = run_pipeline(i)\n",
    "\n",
    "    simple_answer.append({\n",
    "        \"질문\": i,\n",
    "        \"내 모델 답변\": response,\n",
    "        \"검색된 문서\": retrieved_docs,\n",
    "        \"재정렬된 문서\": ranked_docs\n",
    "    })"
   ]
  },
  {
   "cell_type": "code",
   "execution_count": 10,
   "metadata": {},
   "outputs": [],
   "source": [
    "ls = pd.DataFrame(simple_answer)\n",
    "ls.to_csv('score_check/simple_answer_1(es_test2).csv', index=False)"
   ]
  },
  {
   "cell_type": "code",
   "execution_count": 15,
   "metadata": {},
   "outputs": [
    {
     "data": {
      "text/plain": [
       "{'질문': '대한민국에서 음주운전의 혈중알코올농도 기준은?',\n",
       " '내 모델 답변': '\\n대한민국에서는 음주운전 시 혈중알코올농도가 0.03% 이상이면 처벌을 받게 됩니다. 이는 도로교통법 제44조 제1항에 명시되어 있습니다. 이 법은 대한민국에서 음주운전을 엄격히 금지하고 있으며, 적발될 경우 상당한 벌금이나 징역형을 받을 수 있음을 의미합니다. 또한, 혈중알코올농도가 0.08% 이상이면 면허가 취소되고, 3회 이상 적발되면 운전면허가 영구적으로 정지됩니다 (도로교통법 제44조 제2항).\\n\\n따라서 대한민국에서 음주운전을 피하기 위해서는 절대 술을 마시고 운전을 해서는 안 되며, 대리운전이나 대중교통을 이용하는 것이 좋습니다. 또한, 음주 후 일정 시간 동안에는 운전하지 않는 것이 좋으며, 혈중알코올농도가 0%가 될 때까지 기다리는 것이 안전합니다.',\n",
       " '검색된 문서': ['국제사법 제44조(불법행위에 관한 소의 특별관할) 불법행위에 관한 소는 그 행위가 대한민국에서 행하여지거나 대한민국을 향하\\n여 행하여지는 경우 또는 대한민국에서 그 결과가 발생하는 경우 법원에 제기할 수 있다. 다만, 불법행위의 결과가\\n대한민국에서 발생할 것을 예견할 수 없었던 경우에는 그러하지 아니하다.\\n제2절 준거법',\n",
       "  '보험업법 제75조(국내자산 보유의무) ① 외국보험회사국내지점은 대한민국에서 체결한 보험계약에 관하여 제120조에 따라 적립\\n한 책임준비금 및 비상위험준비금에 상당하는 자산을 대한민국에서 보유하여야 한다.',\n",
       "  '상법 제617조(유사외국회사) 외국에서 설립된 회사라도 대한민국에 그 본점을 설치하거나 대한민국에서 영업할 것을 주된\\n목적으로 하는 때에는 대한민국에서 설립된 회사와 같은 규정에 따라야 한다.',\n",
       "  '인터넷주소자원에 관한 법률 제4조(적용범위) 이 법은 대한민국에서 할당되는 인터넷 프로토콜 주소와 대한민국에서 등록ㆍ보유 또는 사용되는 도\\n메인이름등의 인터넷주소자원에 대하여 적용한다.\\n\\n제2장 인터넷주소자원에 관한 정책의 추진 등',\n",
       "  '국적법 제2조(출생에 의한 국적 취득) ① 다음 각 호의 어느 하나에 해당하는 자는 출생과 동시에 대한민국 국적(國籍)을 취득\\n한다.\\n1. 출생 당시에 부(父)또는 모(母)가 대한민국의 국민인 자\\n2. 출생하기 전에 부가 사망한 경우에는 그 사망 당시에 부가 대한민국의 국민이었던 자\\n3. 부모가 모두 분명하지 아니한 경우나 국적이 없는 경우에는 대한민국에서 출생한 자\\n② 대한민국에서 발견된 기아(棄兒)는 대한민국에서 출생한 것으로 추정한다.',\n",
       "  '국제사법 제38조(지식재산권 계약에 관한 소의 특별관할) ① 지식재산권의 양도, 담보권 설정, 사용허락 등의 계약에 관한 소는\\n다음 각 호의 어느 하나에 해당하는 경우 법원에 제기할 수 있다.\\n1. 지식재산권이 대한민국에서 보호되거나 사용 또는 행사되는 경우\\n2. 지식재산권에 관한 권리가 대한민국에서 등록되는 경우\\n② 제1항에 따른 국제재판관할이 적용되는 소에는 제41조를 적용하지 아니한다.',\n",
       "  '헤이그 국제아동탈취협약 이행에 관한 법률 제1조(시행일) 이 법은 협약이 대한민국에서 발효되는 날부터 시행한다.',\n",
       "  '국제수형자이송법 제23조(국외이송의 요건) ①국외이송은 다음 각호의 요건이 갖추어진 때에 한하여 실시할 수 있다.\\n1. 대한민국에서 자유형이 선고ㆍ확정된 범죄사실이 외국의 법률에 의하여 범죄를 구성할 것. 이 경우 수 개의 범죄\\n사실중 한 개의 범죄사실이 외국의 법률에 의하여 범죄를 구성하는 경우를 포함한다.\\n2. 대한민국에서 선고한 자유형의 판결이 확정될 것\\n3. 국외이송대상수형자가 국외이송에 동의할 것\\n4. 대한민국에서 자유형이 선고ㆍ확정된 재판에서 벌금ㆍ과료ㆍ몰수 또는 추징이 병과된 때에는 그 집행이 종료되\\n거나 집행을 하지 아니하기로 확정될 것\\n②제1항제3호의 규정에 의한 동의는 법무부장관으로부터 확인을 명령받은 검사장등이 지정한 검사가 서면으로 확\\n인하여야 한다. 이 경우 국외이송대상수형자에게 제3항의 규정에 의하여 동의의 철회가 인정되지 아니함을 고지하\\n여야 한다.\\n③국외이송에 관한 국외이송대상수형자의 동의는 제2항의 규정에 의하여 확인된 후에는 그 철회가 인정되지 아니\\n한다.',\n",
       "  '출입국관리법 제23조(체류자격 부여) ① 다음 각 호의 어느 하나에 해당하는 외국인이 제10조에 따른 체류자격을 가지지 못하고 대한\\n민국에 체류하게 되는 경우에는 다음 각 호의 구분에 따른 기간 이내에 대통령령으로 정하는 바에 따라 체류자격을\\n받아야 한다.\\n1. 대한민국에서 출생한 외국인: 출생한 날부터 90일\\n2. 대한민국에서 체류 중 대한민국의 국적을 상실하거나 이탈하는 등 그 밖의 사유가 발생한 외국인: 그 사유가 발\\n생한 날부터 60일\\n② 제1항에 따른 체류자격 부여의 심사기준은 법무부령으로 정한다.',\n",
       "  '보험업법 시행규칙 제11조(영업기금의 납입) 영 제14조에 따라 대한민국에서 보험업을 경영하려는 외국보험회사가 납입하여야 하는 영업\\n기금의 납입방법은 금융위원회가 정하여 고시한다.'],\n",
       " '재정렬된 문서': ['국제사법 제44조(불법행위에 관한 소의 특별관할) 불법행위에 관한 소는 그 행위가 대한민국에서 행하여지거나 대한민국을 향하\\n여 행하여지는 경우 또는 대한민국에서 그 결과가 발생하는 경우 법원에 제기할 수 있다. 다만, 불법행위의 결과가\\n대한민국에서 발생할 것을 예견할 수 없었던 경우에는 그러하지 아니하다.\\n제2절 준거법',\n",
       "  '헤이그 국제아동탈취협약 이행에 관한 법률 제1조(시행일) 이 법은 협약이 대한민국에서 발효되는 날부터 시행한다.',\n",
       "  '보험업법 제75조(국내자산 보유의무) ① 외국보험회사국내지점은 대한민국에서 체결한 보험계약에 관하여 제120조에 따라 적립\\n한 책임준비금 및 비상위험준비금에 상당하는 자산을 대한민국에서 보유하여야 한다.',\n",
       "  '출입국관리법 제23조(체류자격 부여) ① 다음 각 호의 어느 하나에 해당하는 외국인이 제10조에 따른 체류자격을 가지지 못하고 대한\\n민국에 체류하게 되는 경우에는 다음 각 호의 구분에 따른 기간 이내에 대통령령으로 정하는 바에 따라 체류자격을\\n받아야 한다.\\n1. 대한민국에서 출생한 외국인: 출생한 날부터 90일\\n2. 대한민국에서 체류 중 대한민국의 국적을 상실하거나 이탈하는 등 그 밖의 사유가 발생한 외국인: 그 사유가 발\\n생한 날부터 60일\\n② 제1항에 따른 체류자격 부여의 심사기준은 법무부령으로 정한다.',\n",
       "  '보험업법 시행규칙 제11조(영업기금의 납입) 영 제14조에 따라 대한민국에서 보험업을 경영하려는 외국보험회사가 납입하여야 하는 영업\\n기금의 납입방법은 금융위원회가 정하여 고시한다.',\n",
       "  '상법 제617조(유사외국회사) 외국에서 설립된 회사라도 대한민국에 그 본점을 설치하거나 대한민국에서 영업할 것을 주된\\n목적으로 하는 때에는 대한민국에서 설립된 회사와 같은 규정에 따라야 한다.',\n",
       "  '국제수형자이송법 제23조(국외이송의 요건) ①국외이송은 다음 각호의 요건이 갖추어진 때에 한하여 실시할 수 있다.\\n1. 대한민국에서 자유형이 선고ㆍ확정된 범죄사실이 외국의 법률에 의하여 범죄를 구성할 것. 이 경우 수 개의 범죄\\n사실중 한 개의 범죄사실이 외국의 법률에 의하여 범죄를 구성하는 경우를 포함한다.\\n2. 대한민국에서 선고한 자유형의 판결이 확정될 것\\n3. 국외이송대상수형자가 국외이송에 동의할 것\\n4. 대한민국에서 자유형이 선고ㆍ확정된 재판에서 벌금ㆍ과료ㆍ몰수 또는 추징이 병과된 때에는 그 집행이 종료되\\n거나 집행을 하지 아니하기로 확정될 것\\n②제1항제3호의 규정에 의한 동의는 법무부장관으로부터 확인을 명령받은 검사장등이 지정한 검사가 서면으로 확\\n인하여야 한다. 이 경우 국외이송대상수형자에게 제3항의 규정에 의하여 동의의 철회가 인정되지 아니함을 고지하\\n여야 한다.\\n③국외이송에 관한 국외이송대상수형자의 동의는 제2항의 규정에 의하여 확인된 후에는 그 철회가 인정되지 아니\\n한다.',\n",
       "  '국적법 제2조(출생에 의한 국적 취득) ① 다음 각 호의 어느 하나에 해당하는 자는 출생과 동시에 대한민국 국적(國籍)을 취득\\n한다.\\n1. 출생 당시에 부(父)또는 모(母)가 대한민국의 국민인 자\\n2. 출생하기 전에 부가 사망한 경우에는 그 사망 당시에 부가 대한민국의 국민이었던 자\\n3. 부모가 모두 분명하지 아니한 경우나 국적이 없는 경우에는 대한민국에서 출생한 자\\n② 대한민국에서 발견된 기아(棄兒)는 대한민국에서 출생한 것으로 추정한다.',\n",
       "  '국제사법 제38조(지식재산권 계약에 관한 소의 특별관할) ① 지식재산권의 양도, 담보권 설정, 사용허락 등의 계약에 관한 소는\\n다음 각 호의 어느 하나에 해당하는 경우 법원에 제기할 수 있다.\\n1. 지식재산권이 대한민국에서 보호되거나 사용 또는 행사되는 경우\\n2. 지식재산권에 관한 권리가 대한민국에서 등록되는 경우\\n② 제1항에 따른 국제재판관할이 적용되는 소에는 제41조를 적용하지 아니한다.',\n",
       "  '인터넷주소자원에 관한 법률 제4조(적용범위) 이 법은 대한민국에서 할당되는 인터넷 프로토콜 주소와 대한민국에서 등록ㆍ보유 또는 사용되는 도\\n메인이름등의 인터넷주소자원에 대하여 적용한다.\\n\\n제2장 인터넷주소자원에 관한 정책의 추진 등']}"
      ]
     },
     "execution_count": 15,
     "metadata": {},
     "output_type": "execute_result"
    }
   ],
   "source": [
    "simple_answer[2]"
   ]
  },
  {
   "cell_type": "code",
   "execution_count": null,
   "metadata": {},
   "outputs": [],
   "source": []
  },
  {
   "cell_type": "code",
   "execution_count": null,
   "metadata": {},
   "outputs": [],
   "source": []
  },
  {
   "cell_type": "code",
   "execution_count": 39,
   "metadata": {},
   "outputs": [],
   "source": [
    "retriever = ElasticsearchHybridRetriever(\"law-index-v2\", \"jinaai/jina-embeddings-v3\")\n",
    "reranker = ReRanker(\"BAAI/bge-reranker-base\")"
   ]
  },
  {
   "cell_type": "code",
   "execution_count": 33,
   "metadata": {},
   "outputs": [
    {
     "name": "stdout",
     "output_type": "stream",
     "text": [
      "\n",
      "이 규칙은 「중대재해 처벌 등에 관한 법률」, 「성폭력범죄의 처벌 등에 관한 특례법」, 「아동학대범죄의 처벌 등에 관한 특례법」, 「스토킹범죄의 처벌 등에 관한 법률」, 「장애인복지법」, 「아동·청소년의 성보호에 관한 법률」 및 「인신매매등방지 및 피해자보호 등에 관한 법률」 등에 따른 검사\n"
     ]
    }
   ],
   "source": [
    "question = \"음주운전의 처벌 기주은 무엇인가요?\"\n",
    "\n",
    "response, retrieved_docs, ranked_docs = run_pipeline(question)\n",
    "\n",
    "print(response)"
   ]
  },
  {
   "cell_type": "code",
   "execution_count": 34,
   "metadata": {},
   "outputs": [
    {
     "data": {
      "text/plain": [
       "['가정폭력범죄의 처벌 등에 관한 특례법 제369조(특수손괴)제1항의 죄\\n카. 「성폭력범죄의 처벌 등에 관한 특례법」',\n",
       " '성폭력범죄의 처벌 등에 관한 특례법 제299조(준강간, 준강제추행)의 죄를 범한 사람은 제1항 또는 제2항의 예에 따라 처벌\\n한다.',\n",
       " '아동학대범죄의 처벌 등에 관한 특례법 시행규칙 제1조(목적) 이 규칙은 「아동학대범죄의 처벌 등에 관한 특례법」 및 같은 법 시행령의 시행에 필요한 사항을 규정함을\\n목적으로 한다.',\n",
       " '중대재해 처벌 등에 관한 법률 시행령 제1조(목적) 이 영은 「중대재해 처벌 등에 관한 법률」에서 위임된 사항과 그 시행에 필요한 사항을 규정함을 목적으로\\n한다.',\n",
       " '가정폭력범죄의 처벌 등에 관한 특례법 시행령 제1조(목적) 이 영은 「가정폭력범죄의 처벌 등에 관한 특례법」에서 위임된 사항과 그 시행에 필요한 사항을 규정함을\\n목적으로 한다.',\n",
       " '스토킹범죄의 처벌 등에 관한 법률 시행령 제1조(목적) 이 영은 「스토킹범죄의 처벌 등에 관한 법률」에서 위임된 사항과 그 시행에 필요한 사항을 규정함을 목적\\n으로 한다.',\n",
       " '성폭력범죄의 처벌 등에 관한 특례법 제15조(미수범)까지의 죄\\n② 제1항 각 호의 범죄로서 다른 법률에 따라 가중처벌되는 죄는 성폭력범죄로 본다.\\n제2장 성폭력범죄의 처벌 및 절차에 관한 특례',\n",
       " '검사의 국선변호사 선정 등에 관한 규칙 제1조(목적) 이 규칙은 「성폭력범죄의 처벌 등에 관한 특례법」, 「아동학대범죄의 처벌 등에 관한 특례법」, 「스토킹범죄\\n의 처벌 등에 관한 법률」, 「장애인복지법」, 「아동ㆍ청소년의 성보호에 관한 법률」 및 「인신매매등방지 및 피해자보\\n호 등에 관한 법률」 등에 따른 검사의 국선변호사 선정 등에 필요한 사항을 정함을 목적으로 한다. <개정 2024. 4.\\n3.>\\n\\n제1조의2(정의) 이 규칙에서 사용하는 용어의 뜻은 다음과 같다. <개정 2022. 5. 9., 2024. 4. 3.>\\n1. “피해자”란 다음 각 목의 어느 하나에 해당하는 사람을 말한다.\\n가. 「성폭력범죄의 처벌 등에 관한 특례법」(이하 “법”이라 한다) 제2조제1항에 따른 성폭력범죄의 피해자\\n나. 「아동ㆍ청소년의 성보호에 관한 법률」 제2조제2호의 아동ㆍ청소년대상 성범죄의 피해자\\n다. 「아동학대범죄의 처벌 등에 관한 특례법」 제2조제6호에 따른 피해아동\\n라. 「장애인복지법」 제2조제4항에 따른 장애인학대관련범죄의 피해장애인\\n마. 「인신매매등방지 및 피해자보호 등에 관한 법률」 제2조제2호에 따른 인신매매등범죄의 피해자\\n바. 「스토킹범죄의 처벌 등에 관한 법률」 제2조제3호에 따른 피해자\\n2. “범죄행위자”란 다음 각 목의 어느 하나에 해당하는 사람을 말한다.\\n가. 법 제2조제1항에 따른 성폭력범죄의 행위자\\n나. 「아동ㆍ청소년의 성보호에 관한 법률」 제2조제2호의 아동ㆍ청소년대상 성범죄의 행위자\\n다. 「아동학대범죄의 처벌 등에 관한 특례법」 제2조제5호에 따른 아동학대행위자\\n라. 「장애인복지법」 제2조제4항에 따른 장애인학대관련범죄의 행위자\\n마. 「인신매매등방지 및 피해자보호 등에 관한 법률」 제2조제2호에 따른 인신매매등범죄의 행위자\\n바. 「스토킹범죄의 처벌 등에 관한 법률」 제2조제2호에 따른 스토킹범죄의 행위자\\n\\n제1조의3(적용 범위) 이 규칙은 다음 각 호의 규정에 따른 국선변호사(이하 “국선변호사”라 한다)의 선정 등에 대해서\\n적용한다. <개정 2024. 4. 3.>\\n1. 법 제27조제6항(「장애인복지법」, 「아동ㆍ청소년의 성보호에 관한 법률」 및 「인신매매등방지 및 피해자보호 등\\n에 관한 법률」 등 다른 법률에서 준용하는 경우를 포함한다)\\n2. 「아동학대범죄의 처벌 등에 관한 특례법」 제16조제6항\\n3. 「스토킹범죄의 처벌 등에 관한 법률」 제17조의4제6항',\n",
       " '성폭력범죄의 처벌 등에 관한 특례법 제1조(목적) 이 법은 성폭력범죄의 처벌 및 그 절차에 관한 특례를 규정함으로써 성폭력범죄 피해자의 생명과 신체의\\n안전을 보장하고 건강한 사회질서의 확립에 이바지함을 목적으로 한다.',\n",
       " '중대재해 처벌 등에 관한 법률 제2조(다른 법률의 개정) 법원조직법 중 일부를 다음과 같이 개정한다.\\n제32조제1항제3호에 아목을 다음과 같이 신설한다.\\n아. 「중대재해 처벌 등에 관한 법률」 제6조제1항ㆍ제3항 및 제10조제1항에 해당하는 사건',\n",
       " '도로교통법 제148조(벌칙) 제54조제1항에 따른 교통사고 발생 시의 조치를 하지 아니한 사람(주ㆍ정차된 차만 손괴한 것이 분명한\\n경우에 제54조제1항제2호에 따라 피해자에게 인적 사항을 제공하지 아니한 사람은 제외한다)은 5년 이하의 징역이\\n나 1천500만원 이하의 벌금에 처한다. <개정 2016. 12. 2.>\\n\\n제148조의2(벌칙) ① 제44조제1항 또는 제2항을 위반(자동차등 또는 노면전차를 운전한 경우로 한정한다. 다만, 개인형\\n이동장치를 운전한 경우는 제외한다. 이하 이 조에서 같다)하여 벌금 이상의 형을 선고받고 그 형이 확정된 날부터\\n10년 내에 다시 같은 조 제1항 또는 제2항을 위반한 사람(형이 실효된 사람도 포함한다)은 다음 각 호의 구분에 따라\\n처벌한다. <개정 2023. 1. 3.>\\n1. 제44조제2항을 위반한 사람은 1년 이상 6년 이하의 징역이나 500만원 이상 3천만원 이하의 벌금에 처한다.\\n2. 제44조제1항을 위반한 사람 중 혈중알코올농도가 0.2퍼센트 이상인 사람은 2년 이상 6년 이하의 징역이나 1천만\\n원 이상 3천만원 이하의 벌금에 처한다.\\n3. 제44조제1항을 위반한 사람 중 혈중알코올농도가 0.03퍼센트 이상 0.2퍼센트 미만인 사람은 1년 이상 5년 이하\\n의 징역이나 500만원 이상 2천만원 이하의 벌금에 처한다.',\n",
       " '도로교통법 제44조(술에 취한 상태에서의 운전 금지) ① 누구든지 술에 취한 상태에서 자동차등(「건설기계관리법」 제26조제1항 단\\n서에 따른 건설기계 외의 건설기계를 포함한다. 이하 이 조, 제45조, 제47조, 제50조의3, 제93조제1항제1호부터 제\\n4호까지 및 제148조의2에서 같다), 노면전차 또는 자전거를 운전하여서는 아니 된다. <개정 2018. 3. 27., 2023. 10.\\n24.>\\n② 경찰공무원은 교통의 안전과 위험방지를 위하여 필요하다고 인정하거나 제1항을 위반하여 술에 취한 상태에서\\n자동차등, 노면전차 또는 자전거를 운전하였다고 인정할 만한 상당한 이유가 있는 경우에는 운전자가 술에 취하였\\n는지를 호흡조사로 측정할 수 있다. 이 경우 운전자는 경찰공무원의 측정에 응하여야 한다.<개정 2014. 12. 30.,\\n2018. 3. 27.>\\n③ 제2항에 따른 측정 결과에 불복하는 운전자에 대하여는 그 운전자의 동의를 받아 혈액 채취 등의 방법으로 다시\\n측정할 수 있다.\\n④ 제1항에 따라 운전이 금지되는 술에 취한 상태의 기준은 운전자의 혈중알코올농도가 0.03퍼센트 이상인 경우로\\n한다.<개정 2018. 12. 24.>\\n⑤ 제2항 및 제3항에 따른 측정의 방법, 절차 등 필요한 사항은 행정안전부령으로 정한다.<신설 2023. 1. 3.>',\n",
       " '주류 면허 등에 관한 법률 제38조(과태료) ① 다음 각 호의 어느 하나에 해당하는 자에게는 2천만원 이하의 과태료를 부과한다. <개정 2022. 1. 6.,\\n2024. 2. 13.>\\n1. 다음 각 목의 어느 하나에 해당하는 명령을 위반한 자\\n가. 제17조에 따른 주세 보전명령\\n나. 제22조에 따른 납세증명표지에 관한 명령\\n2. 다음 각 목의 어느 하나에 해당하는 주류를 판매의 목적으로 소지하거나 판매한 자\\n가. 제3조에 따른 면허를 받지 아니하고 제조한 주류\\n나. 제22조에 따른 납세증명표지가 붙어 있지 아니한 주류\\n3. 제28조에 따른 검정을 받지 아니한 기계, 기구 또는 용기를 사용한 자\\n4. 제37조의2에 따른 금품 제공 등의 금지 의무를 위반한 자',\n",
       " '여객자동차 운수사업법 시행령 제332조(제330조 및 제331조의 상습범으로 한정한다), 제341조에 따른 죄 및 그 각 미수죄, 제363조\\n에 따른 죄: 20년\\n2. 「성폭력범죄의 처벌 등에 관한 특례법」 제2조제1항제2호부터 제4호까지, 제3조부터 제9조까지, 제14조, 제14조\\n의2, 제14조의3 및 제15조에 따른 죄: 20년\\n3. 「아동ㆍ청소년의 성보호에 관한 법률」 제2조제2호에 따른 죄: 20년\\n\\n\\n제16조의2(전자적 매체ㆍ기기 등을 통한 운전자격증명 게시) 법 제24조의2제2항에서 “대통령령으로 정하는 운수종사\\n자”란 다음 각 호의 어느 하나에 해당하는 자를 말한다. <개정 2016. 8. 2.>\\n1. 일반택시운송사업 중 대형(승합자동차를 사용하는 경우로 한정한다) 또는 고급형으로 구분된 사업의 운수종사자\\n2. 개인택시운송사업 중 대형(승합자동차를 사용하는 경우로 한정한다) 또는 고급형으로 구분된 사업의 운수종사자\\n\\n\\n제16조의3(운수종사자 준수사항을 적용받지 아니하는 여객자동차운송사업) 법 제26조제1항제1호 및 제2호에서 “대통\\n령령으로 정하는 여객자동차운송사업”이란 각각 일반택시운송사업 및 개인택시운송사업을 말한다.\\n\\n\\n제17조 삭제 <2014. 7. 28.>\\n제17조의2(좌석안전띠 착용) ① 법 제27조의2제1항 본문에서 “대통령령으로 정하는 도로”란 다음 각 호의 도로를 말한\\n다. <개정 2014. 7. 28.>\\n1. 「도로법」에 따른 도로\\n2. 「농어촌도로 정비법」에 따른 농어촌도로\\n② 법 제27조의2제1항 본문에서 “대통령령으로 정하는 여객자동차운송사업용 자동차”란 다음 각 호의 자동차를 말\\n한다.<개정 2014. 7. 28.>\\n1. 노선 여객자동차운송사업 중 시내버스운송사업(광역급행형에 한정한다)에 사용되는 자동차\\n2. 노선 여객자동차운송사업 중 시외버스운송사업에 사용되는 자동차\\n3. 구역 여객자동차운송사업에 사용되는 자동차. 다만, 일반택시운송사업과 개인택시운송사업에 사용되는 자동차의\\n경우에는 제1항제1호에 따른 도로 중 고속국도 및 자동차 전용도로에 한정한다.',\n",
       " '도로교통법 제50조(특정 운전자의 준수사항) ① 자동차(이륜자동차는 제외한다)의 운전자는 자동차를 운전할 때에는 좌석안전띠를\\n매어야 하며, 모든 좌석의 동승자에게도 좌석안전띠(영유아인 경우에는 유아보호용 장구를 장착한 후의 좌석안전띠\\n를 말한다. 이하 이 조 및 제160조제2항제2호에서 같다)를 매도록 하여야 한다. 다만, 질병 등으로 인하여 좌석안전\\n띠를 매는 것이 곤란하거나 행정안전부령으로 정하는 사유가 있는 경우에는 그러하지 아니하다. <개정 2013. 3. 23.,\\n2014. 11. 19., 2014. 12. 30., 2017. 7. 26., 2018. 3. 27.>\\n② 삭제<2018. 3. 27.>\\n③ 이륜자동차와 원동기장치자전거(개인형 이동장치는 제외한다)의 운전자는 행정안전부령으로 정하는 인명보호\\n장구를 착용하고 운행하여야 하며, 동승자에게도 착용하도록 하여야 한다.<개정 2013. 3. 23., 2014. 11. 19., 2017.\\n7. 26., 2020. 6. 9.>\\n④ 자전거등의 운전자는 자전거도로 및 「도로법」에 따른 도로를 운전할 때에는 행정안전부령으로 정하는 인명보호\\n장구를 착용하여야 하며, 동승자에게도 이를 착용하도록 하여야 한다.<개정 2013. 3. 23., 2014. 11. 19., 2017. 7. 26.,\\n2018. 3. 27., 2020. 6. 9., 2021. 1. 12.>\\n⑤ 운송사업용 자동차, 화물자동차 및 노면전차 등으로서 행정안전부령으로 정하는 자동차 또는 노면전차의 운전자\\n는 다음 각 호의 어느 하나에 해당하는 행위를 하여서는 아니 된다. 다만, 제3호는 사업용 승합자동차와 노면전차의\\n운전자에 한정한다.<개정 2013. 3. 23., 2014. 11. 19., 2016. 1. 27., 2017. 7. 26., 2018. 3. 27.>\\n1. 운행기록계가 설치되어 있지 아니하거나 고장 등으로 사용할 수 없는 운행기록계가 설치된 자동차를 운전하는\\n행위\\n2. 운행기록계를 원래의 목적대로 사용하지 아니하고 자동차를 운전하는 행위\\n3. 승차를 거부하는 행위\\n⑥ 사업용 승용자동차의 운전자는 합승행위 또는 승차거부를 하거나 신고한 요금을 초과하는 요금을 받아서는 아\\n니 된다.\\n⑦ 자전거등의 운전자는 행정안전부령으로 정하는 크기와 구조를 갖추지 아니하여 교통안전에 위험을 초래할 수\\n있는 자전거등을 운전하여서는 아니 된다.<개정 2013. 3. 23., 2014. 11. 19., 2017. 7. 26., 2020. 6. 9.>\\n⑧ 자전거등의 운전자는 약물의 영향과 그 밖의 사유로 정상적으로 운전하지 못할 우려가 있는 상태에서 자전거등\\n을 운전하여서는 아니 된다.<개정 2018. 3. 27., 2020. 6. 9.>\\n⑨ 자전거등의 운전자는 밤에 도로를 통행하는 때에는 전조등과 미등을 켜거나 야광띠 등 발광장치를 착용하여야\\n한다.<신설 2015. 8. 11., 2020. 6. 9.>\\n⑩ 개인형 이동장치의 운전자는 행정안전부령으로 정하는 승차정원을 초과하여 동승자를 태우고 개인형 이동장치\\n를 운전하여서는 아니 된다.<신설 2020. 6. 9.>\\n\\n제50조의2 삭제 <2024. 3. 19.>\\n제50조의3(음주운전 방지장치 부착 조건부 운전면허를 받은 운전자등의 준수사항) ① 제80조의2에 따라 음주운전 방\\n지장치 부착 조건부 운전면허를 받은 사람이 자동차등을 운전하려는 경우 음주운전 방지장치를 설치하고, 시ㆍ도경\\n찰청장에게 등록하여야 한다. 등록한 사항 중 행정안전부령으로 정하는 중요한 사항을 변경할 때에도 또한 같다. 다\\n만, 제2항에 따라 음주운전 방지장치가 설치ㆍ등록된 자동차등을 운전하려는 경우에는 그러하지 아니하다.\\n② 「여객자동차 운수사업법」에 따른 여객자동차 운수사업자의 사업용 자동차, 「화물자동차 운수사업법」에 따른 화\\n물자동차 운수사업자의 사업용 자동차 및 그 밖에 대통령령으로 정하는 자동차등에 음주운전 방지장치를 설치한\\n자는 시ㆍ도경찰청장에게 등록하여야 한다. 등록한 사항 중 행정안전부령으로 정하는 중요한 사항을 변경할 때에도\\n또한 같다.',\n",
       " '해상교통안전법 시행규칙 제34조(음주측정 세부 절차) 해양경찰청 소속 경찰공무원은 법 제39조제2항에 따른 음주측정 전에 다음 각 호의 조치\\n를 해야 한다.\\n1. 법 제39조제2항 각 호 외의 부분 본문에 따른 운항자 또는 도선사의 신원 확인\\n2. 음주측정 요구에 따르지 않는 경우 법 제113조제3항 또는 제115조제3호에 따라 처벌될 수 있다는 사실의 고지',\n",
       " '국민건강증진법 시행령 제13조(경고문구의 표기대상 주류) 법 제8조제4항에 따라 그 판매용 용기에 과다한 음주는 건강에 해롭다는 내용의 경\\n고문구를 표기해야 하는 주류는 국내에 판매되는 「주세법」에 따른 주류 중 알코올분 1도이상의 음료를 말한다. <개\\n정 2007. 2. 8., 2018. 12. 18.>\\n제14조 삭제 <2011. 12. 6.>',\n",
       " '도로교통법 제155조(벌칙) 제92조제2항을 위반하여 경찰공무원의 운전면허증등의 제시 요구나 운전자 확인을 위한 진술 요구에\\n따르지 아니한 사람은 20만원 이하의 벌금 또는 구류에 처한다.',\n",
       " '보호관찰 등에 관한 법률 제336조(인질강도)의 죄\\n나. 「특정범죄 가중처벌 등에 관한 법률」 제5조의2(약취ㆍ유인죄의 가중처벌)의 죄\\n다. 가목과 나목의 죄로서 다른 법률에 따라 가중처벌되는 죄\\n3. 「폭력행위 등 처벌에 관한 법률」',\n",
       " '형법 제14조(과실) 정상적으로 기울여야 할 주의(注意)를 게을리하여 죄의 성립요소인 사실을 인식하지 못한 행위는 법률에\\n특별한 규정이 있는 경우에만 처벌한다.']"
      ]
     },
     "execution_count": 34,
     "metadata": {},
     "output_type": "execute_result"
    }
   ],
   "source": [
    "retrieved_docs"
   ]
  },
  {
   "cell_type": "code",
   "execution_count": 35,
   "metadata": {},
   "outputs": [
    {
     "data": {
      "text/plain": [
       "['도로교통법 제155조(벌칙) 제92조제2항을 위반하여 경찰공무원의 운전면허증등의 제시 요구나 운전자 확인을 위한 진술 요구에\\n따르지 아니한 사람은 20만원 이하의 벌금 또는 구류에 처한다.',\n",
       " '주류 면허 등에 관한 법률 제38조(과태료) ① 다음 각 호의 어느 하나에 해당하는 자에게는 2천만원 이하의 과태료를 부과한다. <개정 2022. 1. 6.,\\n2024. 2. 13.>\\n1. 다음 각 목의 어느 하나에 해당하는 명령을 위반한 자\\n가. 제17조에 따른 주세 보전명령\\n나. 제22조에 따른 납세증명표지에 관한 명령\\n2. 다음 각 목의 어느 하나에 해당하는 주류를 판매의 목적으로 소지하거나 판매한 자\\n가. 제3조에 따른 면허를 받지 아니하고 제조한 주류\\n나. 제22조에 따른 납세증명표지가 붙어 있지 아니한 주류\\n3. 제28조에 따른 검정을 받지 아니한 기계, 기구 또는 용기를 사용한 자\\n4. 제37조의2에 따른 금품 제공 등의 금지 의무를 위반한 자',\n",
       " '도로교통법 제44조(술에 취한 상태에서의 운전 금지) ① 누구든지 술에 취한 상태에서 자동차등(「건설기계관리법」 제26조제1항 단\\n서에 따른 건설기계 외의 건설기계를 포함한다. 이하 이 조, 제45조, 제47조, 제50조의3, 제93조제1항제1호부터 제\\n4호까지 및 제148조의2에서 같다), 노면전차 또는 자전거를 운전하여서는 아니 된다. <개정 2018. 3. 27., 2023. 10.\\n24.>\\n② 경찰공무원은 교통의 안전과 위험방지를 위하여 필요하다고 인정하거나 제1항을 위반하여 술에 취한 상태에서\\n자동차등, 노면전차 또는 자전거를 운전하였다고 인정할 만한 상당한 이유가 있는 경우에는 운전자가 술에 취하였\\n는지를 호흡조사로 측정할 수 있다. 이 경우 운전자는 경찰공무원의 측정에 응하여야 한다.<개정 2014. 12. 30.,\\n2018. 3. 27.>\\n③ 제2항에 따른 측정 결과에 불복하는 운전자에 대하여는 그 운전자의 동의를 받아 혈액 채취 등의 방법으로 다시\\n측정할 수 있다.\\n④ 제1항에 따라 운전이 금지되는 술에 취한 상태의 기준은 운전자의 혈중알코올농도가 0.03퍼센트 이상인 경우로\\n한다.<개정 2018. 12. 24.>\\n⑤ 제2항 및 제3항에 따른 측정의 방법, 절차 등 필요한 사항은 행정안전부령으로 정한다.<신설 2023. 1. 3.>',\n",
       " '국민건강증진법 시행령 제13조(경고문구의 표기대상 주류) 법 제8조제4항에 따라 그 판매용 용기에 과다한 음주는 건강에 해롭다는 내용의 경\\n고문구를 표기해야 하는 주류는 국내에 판매되는 「주세법」에 따른 주류 중 알코올분 1도이상의 음료를 말한다. <개\\n정 2007. 2. 8., 2018. 12. 18.>\\n제14조 삭제 <2011. 12. 6.>',\n",
       " '도로교통법 제50조(특정 운전자의 준수사항) ① 자동차(이륜자동차는 제외한다)의 운전자는 자동차를 운전할 때에는 좌석안전띠를\\n매어야 하며, 모든 좌석의 동승자에게도 좌석안전띠(영유아인 경우에는 유아보호용 장구를 장착한 후의 좌석안전띠\\n를 말한다. 이하 이 조 및 제160조제2항제2호에서 같다)를 매도록 하여야 한다. 다만, 질병 등으로 인하여 좌석안전\\n띠를 매는 것이 곤란하거나 행정안전부령으로 정하는 사유가 있는 경우에는 그러하지 아니하다. <개정 2013. 3. 23.,\\n2014. 11. 19., 2014. 12. 30., 2017. 7. 26., 2018. 3. 27.>\\n② 삭제<2018. 3. 27.>\\n③ 이륜자동차와 원동기장치자전거(개인형 이동장치는 제외한다)의 운전자는 행정안전부령으로 정하는 인명보호\\n장구를 착용하고 운행하여야 하며, 동승자에게도 착용하도록 하여야 한다.<개정 2013. 3. 23., 2014. 11. 19., 2017.\\n7. 26., 2020. 6. 9.>\\n④ 자전거등의 운전자는 자전거도로 및 「도로법」에 따른 도로를 운전할 때에는 행정안전부령으로 정하는 인명보호\\n장구를 착용하여야 하며, 동승자에게도 이를 착용하도록 하여야 한다.<개정 2013. 3. 23., 2014. 11. 19., 2017. 7. 26.,\\n2018. 3. 27., 2020. 6. 9., 2021. 1. 12.>\\n⑤ 운송사업용 자동차, 화물자동차 및 노면전차 등으로서 행정안전부령으로 정하는 자동차 또는 노면전차의 운전자\\n는 다음 각 호의 어느 하나에 해당하는 행위를 하여서는 아니 된다. 다만, 제3호는 사업용 승합자동차와 노면전차의\\n운전자에 한정한다.<개정 2013. 3. 23., 2014. 11. 19., 2016. 1. 27., 2017. 7. 26., 2018. 3. 27.>\\n1. 운행기록계가 설치되어 있지 아니하거나 고장 등으로 사용할 수 없는 운행기록계가 설치된 자동차를 운전하는\\n행위\\n2. 운행기록계를 원래의 목적대로 사용하지 아니하고 자동차를 운전하는 행위\\n3. 승차를 거부하는 행위\\n⑥ 사업용 승용자동차의 운전자는 합승행위 또는 승차거부를 하거나 신고한 요금을 초과하는 요금을 받아서는 아\\n니 된다.\\n⑦ 자전거등의 운전자는 행정안전부령으로 정하는 크기와 구조를 갖추지 아니하여 교통안전에 위험을 초래할 수\\n있는 자전거등을 운전하여서는 아니 된다.<개정 2013. 3. 23., 2014. 11. 19., 2017. 7. 26., 2020. 6. 9.>\\n⑧ 자전거등의 운전자는 약물의 영향과 그 밖의 사유로 정상적으로 운전하지 못할 우려가 있는 상태에서 자전거등\\n을 운전하여서는 아니 된다.<개정 2018. 3. 27., 2020. 6. 9.>\\n⑨ 자전거등의 운전자는 밤에 도로를 통행하는 때에는 전조등과 미등을 켜거나 야광띠 등 발광장치를 착용하여야\\n한다.<신설 2015. 8. 11., 2020. 6. 9.>\\n⑩ 개인형 이동장치의 운전자는 행정안전부령으로 정하는 승차정원을 초과하여 동승자를 태우고 개인형 이동장치\\n를 운전하여서는 아니 된다.<신설 2020. 6. 9.>\\n\\n제50조의2 삭제 <2024. 3. 19.>\\n제50조의3(음주운전 방지장치 부착 조건부 운전면허를 받은 운전자등의 준수사항) ① 제80조의2에 따라 음주운전 방\\n지장치 부착 조건부 운전면허를 받은 사람이 자동차등을 운전하려는 경우 음주운전 방지장치를 설치하고, 시ㆍ도경\\n찰청장에게 등록하여야 한다. 등록한 사항 중 행정안전부령으로 정하는 중요한 사항을 변경할 때에도 또한 같다. 다\\n만, 제2항에 따라 음주운전 방지장치가 설치ㆍ등록된 자동차등을 운전하려는 경우에는 그러하지 아니하다.\\n② 「여객자동차 운수사업법」에 따른 여객자동차 운수사업자의 사업용 자동차, 「화물자동차 운수사업법」에 따른 화\\n물자동차 운수사업자의 사업용 자동차 및 그 밖에 대통령령으로 정하는 자동차등에 음주운전 방지장치를 설치한\\n자는 시ㆍ도경찰청장에게 등록하여야 한다. 등록한 사항 중 행정안전부령으로 정하는 중요한 사항을 변경할 때에도\\n또한 같다.',\n",
       " '도로교통법 제148조(벌칙) 제54조제1항에 따른 교통사고 발생 시의 조치를 하지 아니한 사람(주ㆍ정차된 차만 손괴한 것이 분명한\\n경우에 제54조제1항제2호에 따라 피해자에게 인적 사항을 제공하지 아니한 사람은 제외한다)은 5년 이하의 징역이\\n나 1천500만원 이하의 벌금에 처한다. <개정 2016. 12. 2.>\\n\\n제148조의2(벌칙) ① 제44조제1항 또는 제2항을 위반(자동차등 또는 노면전차를 운전한 경우로 한정한다. 다만, 개인형\\n이동장치를 운전한 경우는 제외한다. 이하 이 조에서 같다)하여 벌금 이상의 형을 선고받고 그 형이 확정된 날부터\\n10년 내에 다시 같은 조 제1항 또는 제2항을 위반한 사람(형이 실효된 사람도 포함한다)은 다음 각 호의 구분에 따라\\n처벌한다. <개정 2023. 1. 3.>\\n1. 제44조제2항을 위반한 사람은 1년 이상 6년 이하의 징역이나 500만원 이상 3천만원 이하의 벌금에 처한다.\\n2. 제44조제1항을 위반한 사람 중 혈중알코올농도가 0.2퍼센트 이상인 사람은 2년 이상 6년 이하의 징역이나 1천만\\n원 이상 3천만원 이하의 벌금에 처한다.\\n3. 제44조제1항을 위반한 사람 중 혈중알코올농도가 0.03퍼센트 이상 0.2퍼센트 미만인 사람은 1년 이상 5년 이하\\n의 징역이나 500만원 이상 2천만원 이하의 벌금에 처한다.',\n",
       " '형법 제14조(과실) 정상적으로 기울여야 할 주의(注意)를 게을리하여 죄의 성립요소인 사실을 인식하지 못한 행위는 법률에\\n특별한 규정이 있는 경우에만 처벌한다.',\n",
       " '보호관찰 등에 관한 법률 제336조(인질강도)의 죄\\n나. 「특정범죄 가중처벌 등에 관한 법률」 제5조의2(약취ㆍ유인죄의 가중처벌)의 죄\\n다. 가목과 나목의 죄로서 다른 법률에 따라 가중처벌되는 죄\\n3. 「폭력행위 등 처벌에 관한 법률」',\n",
       " '여객자동차 운수사업법 시행령 제332조(제330조 및 제331조의 상습범으로 한정한다), 제341조에 따른 죄 및 그 각 미수죄, 제363조\\n에 따른 죄: 20년\\n2. 「성폭력범죄의 처벌 등에 관한 특례법」 제2조제1항제2호부터 제4호까지, 제3조부터 제9조까지, 제14조, 제14조\\n의2, 제14조의3 및 제15조에 따른 죄: 20년\\n3. 「아동ㆍ청소년의 성보호에 관한 법률」 제2조제2호에 따른 죄: 20년\\n\\n\\n제16조의2(전자적 매체ㆍ기기 등을 통한 운전자격증명 게시) 법 제24조의2제2항에서 “대통령령으로 정하는 운수종사\\n자”란 다음 각 호의 어느 하나에 해당하는 자를 말한다. <개정 2016. 8. 2.>\\n1. 일반택시운송사업 중 대형(승합자동차를 사용하는 경우로 한정한다) 또는 고급형으로 구분된 사업의 운수종사자\\n2. 개인택시운송사업 중 대형(승합자동차를 사용하는 경우로 한정한다) 또는 고급형으로 구분된 사업의 운수종사자\\n\\n\\n제16조의3(운수종사자 준수사항을 적용받지 아니하는 여객자동차운송사업) 법 제26조제1항제1호 및 제2호에서 “대통\\n령령으로 정하는 여객자동차운송사업”이란 각각 일반택시운송사업 및 개인택시운송사업을 말한다.\\n\\n\\n제17조 삭제 <2014. 7. 28.>\\n제17조의2(좌석안전띠 착용) ① 법 제27조의2제1항 본문에서 “대통령령으로 정하는 도로”란 다음 각 호의 도로를 말한\\n다. <개정 2014. 7. 28.>\\n1. 「도로법」에 따른 도로\\n2. 「농어촌도로 정비법」에 따른 농어촌도로\\n② 법 제27조의2제1항 본문에서 “대통령령으로 정하는 여객자동차운송사업용 자동차”란 다음 각 호의 자동차를 말\\n한다.<개정 2014. 7. 28.>\\n1. 노선 여객자동차운송사업 중 시내버스운송사업(광역급행형에 한정한다)에 사용되는 자동차\\n2. 노선 여객자동차운송사업 중 시외버스운송사업에 사용되는 자동차\\n3. 구역 여객자동차운송사업에 사용되는 자동차. 다만, 일반택시운송사업과 개인택시운송사업에 사용되는 자동차의\\n경우에는 제1항제1호에 따른 도로 중 고속국도 및 자동차 전용도로에 한정한다.',\n",
       " '중대재해 처벌 등에 관한 법률 시행령 제1조(목적) 이 영은 「중대재해 처벌 등에 관한 법률」에서 위임된 사항과 그 시행에 필요한 사항을 규정함을 목적으로\\n한다.',\n",
       " '성폭력범죄의 처벌 등에 관한 특례법 제299조(준강간, 준강제추행)의 죄를 범한 사람은 제1항 또는 제2항의 예에 따라 처벌\\n한다.',\n",
       " '해상교통안전법 시행규칙 제34조(음주측정 세부 절차) 해양경찰청 소속 경찰공무원은 법 제39조제2항에 따른 음주측정 전에 다음 각 호의 조치\\n를 해야 한다.\\n1. 법 제39조제2항 각 호 외의 부분 본문에 따른 운항자 또는 도선사의 신원 확인\\n2. 음주측정 요구에 따르지 않는 경우 법 제113조제3항 또는 제115조제3호에 따라 처벌될 수 있다는 사실의 고지',\n",
       " '성폭력범죄의 처벌 등에 관한 특례법 제15조(미수범)까지의 죄\\n② 제1항 각 호의 범죄로서 다른 법률에 따라 가중처벌되는 죄는 성폭력범죄로 본다.\\n제2장 성폭력범죄의 처벌 및 절차에 관한 특례',\n",
       " '아동학대범죄의 처벌 등에 관한 특례법 시행규칙 제1조(목적) 이 규칙은 「아동학대범죄의 처벌 등에 관한 특례법」 및 같은 법 시행령의 시행에 필요한 사항을 규정함을\\n목적으로 한다.',\n",
       " '가정폭력범죄의 처벌 등에 관한 특례법 시행령 제1조(목적) 이 영은 「가정폭력범죄의 처벌 등에 관한 특례법」에서 위임된 사항과 그 시행에 필요한 사항을 규정함을\\n목적으로 한다.',\n",
       " '중대재해 처벌 등에 관한 법률 제2조(다른 법률의 개정) 법원조직법 중 일부를 다음과 같이 개정한다.\\n제32조제1항제3호에 아목을 다음과 같이 신설한다.\\n아. 「중대재해 처벌 등에 관한 법률」 제6조제1항ㆍ제3항 및 제10조제1항에 해당하는 사건',\n",
       " '가정폭력범죄의 처벌 등에 관한 특례법 제369조(특수손괴)제1항의 죄\\n카. 「성폭력범죄의 처벌 등에 관한 특례법」',\n",
       " '검사의 국선변호사 선정 등에 관한 규칙 제1조(목적) 이 규칙은 「성폭력범죄의 처벌 등에 관한 특례법」, 「아동학대범죄의 처벌 등에 관한 특례법」, 「스토킹범죄\\n의 처벌 등에 관한 법률」, 「장애인복지법」, 「아동ㆍ청소년의 성보호에 관한 법률」 및 「인신매매등방지 및 피해자보\\n호 등에 관한 법률」 등에 따른 검사의 국선변호사 선정 등에 필요한 사항을 정함을 목적으로 한다. <개정 2024. 4.\\n3.>\\n\\n제1조의2(정의) 이 규칙에서 사용하는 용어의 뜻은 다음과 같다. <개정 2022. 5. 9., 2024. 4. 3.>\\n1. “피해자”란 다음 각 목의 어느 하나에 해당하는 사람을 말한다.\\n가. 「성폭력범죄의 처벌 등에 관한 특례법」(이하 “법”이라 한다) 제2조제1항에 따른 성폭력범죄의 피해자\\n나. 「아동ㆍ청소년의 성보호에 관한 법률」 제2조제2호의 아동ㆍ청소년대상 성범죄의 피해자\\n다. 「아동학대범죄의 처벌 등에 관한 특례법」 제2조제6호에 따른 피해아동\\n라. 「장애인복지법」 제2조제4항에 따른 장애인학대관련범죄의 피해장애인\\n마. 「인신매매등방지 및 피해자보호 등에 관한 법률」 제2조제2호에 따른 인신매매등범죄의 피해자\\n바. 「스토킹범죄의 처벌 등에 관한 법률」 제2조제3호에 따른 피해자\\n2. “범죄행위자”란 다음 각 목의 어느 하나에 해당하는 사람을 말한다.\\n가. 법 제2조제1항에 따른 성폭력범죄의 행위자\\n나. 「아동ㆍ청소년의 성보호에 관한 법률」 제2조제2호의 아동ㆍ청소년대상 성범죄의 행위자\\n다. 「아동학대범죄의 처벌 등에 관한 특례법」 제2조제5호에 따른 아동학대행위자\\n라. 「장애인복지법」 제2조제4항에 따른 장애인학대관련범죄의 행위자\\n마. 「인신매매등방지 및 피해자보호 등에 관한 법률」 제2조제2호에 따른 인신매매등범죄의 행위자\\n바. 「스토킹범죄의 처벌 등에 관한 법률」 제2조제2호에 따른 스토킹범죄의 행위자\\n\\n제1조의3(적용 범위) 이 규칙은 다음 각 호의 규정에 따른 국선변호사(이하 “국선변호사”라 한다)의 선정 등에 대해서\\n적용한다. <개정 2024. 4. 3.>\\n1. 법 제27조제6항(「장애인복지법」, 「아동ㆍ청소년의 성보호에 관한 법률」 및 「인신매매등방지 및 피해자보호 등\\n에 관한 법률」 등 다른 법률에서 준용하는 경우를 포함한다)\\n2. 「아동학대범죄의 처벌 등에 관한 특례법」 제16조제6항\\n3. 「스토킹범죄의 처벌 등에 관한 법률」 제17조의4제6항',\n",
       " '스토킹범죄의 처벌 등에 관한 법률 시행령 제1조(목적) 이 영은 「스토킹범죄의 처벌 등에 관한 법률」에서 위임된 사항과 그 시행에 필요한 사항을 규정함을 목적\\n으로 한다.',\n",
       " '성폭력범죄의 처벌 등에 관한 특례법 제1조(목적) 이 법은 성폭력범죄의 처벌 및 그 절차에 관한 특례를 규정함으로써 성폭력범죄 피해자의 생명과 신체의\\n안전을 보장하고 건강한 사회질서의 확립에 이바지함을 목적으로 한다.']"
      ]
     },
     "execution_count": 35,
     "metadata": {},
     "output_type": "execute_result"
    }
   ],
   "source": [
    "ranked_docs"
   ]
  },
  {
   "cell_type": "code",
   "execution_count": 49,
   "metadata": {},
   "outputs": [],
   "source": [
    "from pprint import pprint\n",
    "\n",
    "# 1. 설정\n",
    "question = \"어린이 보호구역에서의 제한속도는 몇인가요?\"\n",
    "embedding_model_name = \"jinaai/jina-embeddings-v3\"\n",
    "reranker_model_name = \"BAAI/bge-reranker-base\"\n",
    "reranker_model_name2 = \"Alibaba-NLP/gte-multilingual-reranker-base\"\n",
    "index_name = \"law-index-v2\"\n",
    "\n",
    "# 2. 임베딩 모델 로드\n",
    "embedding_model = SentenceTransformerEmbedding(embedding_model_name)\n",
    "\n",
    "# 3. Elasticsearch retriever 초기화\n",
    "retriever = ElasticsearchHybridRetriever(index_name, embedding_model)\n",
    "\n",
    "# 4. 리랭커 초기화\n",
    "reranker = ReRanker(reranker_model_name)\n",
    "reranker2 = ReRanker(reranker_model_name2)\n",
    "\n",
    "# 5. Retriever로 문서 검색 (BM25 + 벡터 검색 통합)\n",
    "retrieved_docs = retriever.retrieve(question, k=10)\n",
    "reranked_docs = reranker.re_rank(question, retrieved_docs)\n",
    "reranked_docs2 = reranker2.re_rank(question, retrieved_docs)"
   ]
  },
  {
   "cell_type": "code",
   "execution_count": null,
   "metadata": {},
   "outputs": [],
   "source": [
    "from pprint import pprint\n",
    "\n",
    "# 1. 설정\n",
    "question = \"어린이 보호구역에서의 제한속도는 몇인가요?\"\n",
    "embedding_model_name = \"jinaai/jina-embeddings-v3\"\n",
    "reranker_model_name = \"Alibaba-NLP/gte-multilingual-reranker-base\"\n",
    "index_name = \"law-index-v2\"\n",
    "\n",
    "# 2. 임베딩 모델 로드\n",
    "embedding_model = SentenceTransformerEmbedding(embedding_model_name)\n",
    "\n",
    "# 3. Elasticsearch retriever 초기화\n",
    "retriever = ElasticsearchHybridRetriever(index_name, embedding_model)\n",
    "\n",
    "# 4. 리랭커 초기화\n",
    "reranker = ReRanker(reranker_model_name)\n",
    "\n",
    "# 5. Retriever로 문서 검색 (BM25 + 벡터 검색 통합)\n",
    "retrieved_docs = retriever.retrieve(question, k=10)"
   ]
  },
  {
   "cell_type": "code",
   "execution_count": 50,
   "metadata": {},
   "outputs": [
    {
     "data": {
      "text/plain": [
       "['어린이 식생활안전관리 특별법 시행령 제2조(어린이 기호식품) 「어린이 식생활안전관리 특별법」(이하 “법”이라 한다) 제2조제2호에 따른 어린이 기호식품은\\n별표 1과 같다.',\n",
       " '어린이 식생활안전관리 특별법 제6조(어린이 기호식품 조리ㆍ판매업소 관리) ① 특별자치시장ㆍ특별자치도지사ㆍ시장ㆍ군수ㆍ구청장은 어린이 식품\\n안전보호구역에서 어린이 기호식품을 조리 또는 진열ㆍ판매하는 업소 중 대통령령으로 정하는 업소를 어린이 기호\\n식품 조리ㆍ판매업소(이하 “조리ㆍ판매업소”라 한다)로 관리하여야 한다. <개정 2021. 7. 27.>',\n",
       " '철도차량운전규칙 제83조(차내신호) 차내신호의 종류 및 그 제한속도는 다음 각 호와 같다.\\n1. 정지신호：열차운행에 지장이 있는 구간으로 운행하는 열차에 대하여 정지하도록 하는 것\\n2. 15신호：정지신호에 의하여 정지한 열차에 대한 신호로서 1시간에 15킬로미터 이하의 속도로 운전하게 하는 것\\n3. 야드신호：입환차량에 대한 신호로서 1시간에 25킬로미터 이하의 속도로 운전하게 하는 것\\n4. 진행신호：열차를 지정된 속도 이하로 운전하게 하는 것',\n",
       " '어린이 식생활안전관리 특별법 제5조(어린이 식품안전보호구역 지정) ① 특별자치시장ㆍ특별자치도지사ㆍ시장ㆍ군수ㆍ구청장(자치구의 구청장을 말\\n한다. 이하 같다)은 안전하고 위생적인 식품판매 환경의 조성으로 어린이를 보호하기 위하여 학교와 해당 학교의 경\\n계선으로부터 직선거리 200미터의 범위 안의 구역을 어린이 식품안전보호구역(이하 “어린이 식품안전보호구역”이라\\n한다)으로 지정ㆍ관리할 수 있다. <개정 2021. 7. 27.>\\n② 어린이 식품안전보호구역 지정에 관한 세부사항은 대통령령으로 정한다.',\n",
       " '어린이 식생활안전관리 특별법 시행규칙 제3조(어린이 식품안전보호구역 표지판 설치 및 관리기준) 영 제4조에 따른 어린이 식품안전보호구역을 알리는 표지판\\n의 설치 및 관리기준은 별표 1과 같다.',\n",
       " '어린이 식생활안전관리 특별법 시행규칙 제19조(식생활 안전ㆍ영양수준 평가 방법) ① 식품의약품안전처장은 제18조에 따른 식생활 안전ㆍ영양수준 조사ㆍ평\\n가를 위하여 관련 전문가 및 공무원 등으로 구성된 평가반을 구성하여 운영할 수 있다. <개정 2013. 3. 23.>\\n② 평가반은 조사ㆍ평가가 끝난 후 1개월 이내에 그 결과를 법 제25조제1항에 따른 어린이식생활안전관리위원회의\\n심의를 거쳐 식품의약품안전처장에게 보고하여야 한다.<개정 2013. 3. 23.>\\n③ 식품의약품안전처장은 제2항에 따른 심의 결과를 지체 없이 인터넷 홈페이지 또는 「신문 등의 진흥에 관한 법률\\n」 제9조제1항에 따라 보급지역을 전국으로 등록한 일반일간신문 등을 이용하여 국민에게 알려야 한다.<개정 2013.\\n3. 23., 2020. 7. 8.>\\n제19조의2(실태조사의 방법 등) ① 법 제26조의2제1항에 따라 식품의약품안전처장은 어린이 및 어린이가 주로 활동하\\n는 공간 등을 대상으로 어린이 식생활안전관리에 관한 실태조사(이하 “실태조사”라 한다)를 실시한다.\\n② 식품의약품안전처장은 제1항에 따른 실태조사를 어린이 식생활안전관리에 관한 전문인력 및 장비를 갖춘 연구\\n기관, 법인 또는 단체에 의뢰하여 실시할 수 있다.\\n③ 제1항에 따른 실태조사에는 다음 각 호의 사항이 포함되어야 한다.\\n1. 어린이 기호식품 생산 및 소비현황\\n2. 어린이 기호식품 생산ㆍ유통ㆍ조리ㆍ판매업소 현황\\n3. 고열량ㆍ저영양 식품 및 고카페인 함유 식품 현황(저감화 현황을 포함한다)\\n4. 학교, 학원, 어린이 놀이시설 주변 등 어린이 생활공간의 식생활 환경 현황\\n5. 어린이 식생활안전교육 현황\\n6. 어린이 식생활 개선 현황\\n7. 그 밖에 어린이 식생활안전과 관련하여 식품의약품안전처장이 필요하다고 인정하는 사항',\n",
       " '어린이 식생활안전관리 특별법 제26조(어린이 식생활 안전관리종합계획 수립) ① 식품의약품안전처장은 3년마다 관계 중앙행정기관의 장과 협의하여\\n어린이 기호식품과 단체급식 등의 안전 및 영양관리 등에 관한 어린이 식생활 안전관리종합계획을 위원회의 심의를\\n거쳐 수립하여야 한다. <개정 2013. 3. 23., 2016. 2. 3.>\\n② 제1항에 따른 어린이 식생활 안전관리종합계획(이하 “종합계획”이라 한다)은 다음 각 호의 사항이 포함되어야 한\\n다.\\n1. 어린이 기호식품 등의 안전정책의 목표 및 기본방향\\n2. 어린이 기호식품 등의 변화와 전망\\n3. 어린이 기호식품 등의 제도개선에 관한 사항\\n4. 어린이 기호식품 등에 관련한 연구 및 기술개발에 관한 사항\\n5. 어린이 기호식품 등의 안전을 위한 국제협력에 관한 사항\\n6. 어린이 기호식품 등을 제조ㆍ가공ㆍ수입ㆍ조리하여 판매하는 자에 대한 지원과 안전성 확보를 위한 지원방법에\\n관한 사항\\n7. 그 밖에 어린이 기호식품 등의 안전성 확보를 위하여 필요한 사항\\n③ 식품의약품안전처장, 관계 중앙행정기관의 장 및 지방자치단체의 장은 종합계획을 기초로 하여 매년 어린이 식\\n생활 안전관리시행계획(이하 “시행계획”이라 한다)을 수립ㆍ시행하여야 한다.<개정 2016. 2. 3.>\\n④ 그 밖에 종합계획 및 시행계획의 수립ㆍ시행에 관하여 필요한 사항은 대통령령으로 정한다.\\n제26조의2(실태조사 등) ① 식품의약품안전처장은 제26조에 따른 종합계획 및 시행계획의 수립ㆍ시행에 필요한 기초\\n자료를 확보하기 위하여 어린이 식생활안전관리에 관한 실태조사를 3년마다 실시하고 그 결과를 공표하여야 한다.\\n② 식품의약품안전처장은 제1항에 따른 실태조사를 위하여 「공공기관의 운영에 관한 법률」에 따른 공공기관의 장,\\n식품산업을 영위하는 자, 그 밖의 관련 기관 및 단체 등에 대하여 필요한 자료의 제출이나 의견의 진술을 요청할 수\\n있다. 이 경우 요청을 받은 자는 정당한 사유가 없으면 요청에 협조하여야 한다.\\n③ 식품의약품안전처는 제1항에 따른 실태조사와 제23조제1항에 따른 식생활 안전지수 조사를 통합하여 실시할 수\\n있다.\\n④ 제1항에 따른 실태조사의 방법 등에 필요한 사항은 총리령으로 정한다.\\n\\n제7장 시정명령 등',\n",
       " '식품의약품안전처와 그 소속기관 직제 시행규칙 제11조(식품소비안전국) ① 식품소비안전국장은 고위공무원단에 속하는 일반직공무원ㆍ보건연구관 또는 공업연구관\\n으로 보하되, 그 직위의 직무등급은 나등급으로 한다.\\n② 식품소비안전국에 식생활영양안전정책과ㆍ축산물안전정책과ㆍ농수산물안전정책과 및 식중독예방과를 두되, 식\\n생활영양안전정책과장ㆍ축산물안전정책과장 및 농수산물안전정책과장은 부이사관ㆍ과학기술서기관ㆍ서기관 또는\\n수석전문관으로, 식중독예방과장은 과학기술서기관ㆍ서기관ㆍ보건연구관ㆍ공업연구관 또는 수석전문관으로 보한\\n다.<개정 2020. 1. 9., 2020. 8. 31., 2020. 12. 31., 2023. 6. 1., 2023. 8. 30.>\\n③ 식생활영양안전정책과장은 다음 사항을 분장한다.<개정 2018. 12. 11.>\\n1. 어린이 식생활안전관리, 식품영양 안전에 관한 정책 개발 및 제도개선\\n2. 어린이 식생활안전관리, 식품영양 안전 정책 및 종합계획의 수립 및 총괄\\n3. 「어린이 식생활안전관리 특별법」의 개정 및 운영\\n4. 어린이 식품안전보호구역 및 우수판매업소 지정제도 운영 및 관리\\n5. 시ㆍ군ㆍ구(자치구를 말한다) 식생활 안전ㆍ영양수준 평가 제도의 운영\\n6. 어린이 식생활 안전 지수 조사\\n7. 어린이 기호식품 지정제도 운영\\n8. 어린이 기호식품의 품질인증기준 제정ㆍ개정 및 제도 운영\\n9. 고열량ㆍ저영양 식품의 광고 제한ㆍ판매금지 제도 운영 및 단속에 관한 사항\\n10. 단체급식 안전관리\\n11. 어린이 급식관리지원센터 설치ㆍ운영에 관한 사항\\n12. 어린이 식품안전ㆍ영양 관련 교육ㆍ홍보',\n",
       " '도로교통법 시행규칙 제36조(어린이 보호표지) 영 제31조제2호에 따른 어린이 보호표지는 별표 14와 같다.',\n",
       " '어린이 식생활안전관리 특별법 시행령 제3조(어린이 식품안전보호구역의 지정 등) ① 특별자치시장ㆍ특별자치도지사ㆍ시장ㆍ군수 또는 구청장(자치구의 구\\n청장을 말한다. 이하 같다)은 법 제5조제1항에 따른 어린이 식품안전보호구역(이하 “어린이 식품안전보호구역”이라\\n한다)을 지정하려면 「지방교육자치에 관한 법률」 제34조제3항에 따른 관할 교육장과 협의해야 한다. <개정 2021.\\n12. 14.>\\n② 특별자치시장ㆍ특별자치도지사ㆍ시장ㆍ군수 또는 구청장은 어린이 식품안전보호구역을 지정하려면 미리 다음\\n각 호의 사항을 조사해야 한다.<개정 2021. 12. 14.>\\n1. 학교 및 학교 주변에 설치된 식품자동판매기의 개수 및 종류\\n2. 학교 안에서 판매하고 있는 주요 식품의 종류 등\\n3. 통학하는 학생 수\\n4. 학교 주변에서 어린이 기호식품을 조리 또는 진열ㆍ판매하는 영업소의 수 및 종류\\n③ 특별자치시장ㆍ특별자치도지사ㆍ시장ㆍ군수 또는 구청장은 어린이 식품안전보호구역을 지정하였을 때에는 총\\n리령으로 정하는 바에 따라 식품의약품안전처장에게 통보하고 관리해야 한다.<개정 2010. 3. 15., 2013. 3. 23.,\\n2021. 12. 14.>\\n④ 특별자치시장ㆍ특별자치도지사ㆍ시장ㆍ군수 또는 구청장은 해당 학교가 폐교하거나 주변의 환경 변화 등이 있\\n는 경우에는 제1항에 따른 관할 교육장과 협의하여 어린이 식품안전보호구역의 지정을 해제하거나 지정구역을 변\\n경할 수 있다.<개정 2021. 12. 14.>',\n",
       " '도로교통법 제11조(어린이 등에 대한 보호) ① 어린이의 보호자는 교통이 빈번한 도로에서 어린이를 놀게 하여서는 아니 되며, 영\\n유아(6세 미만인 사람을 말한다. 이하 같다)의 보호자는 교통이 빈번한 도로에서 영유아가 혼자 보행하게 하여서는\\n아니 된다. <개정 2014. 12. 30.>\\n② 앞을 보지 못하는 사람(이에 준하는 사람을 포함한다. 이하 같다)의 보호자는 그 사람이 도로를 보행할 때에는 흰\\n색 지팡이를 갖고 다니도록 하거나 앞을 보지 못하는 사람에게 길을 안내하는 개로서 행정안전부령으로 정하는 개\\n(이하 “장애인보조견”이라 한다)를 동반하도록 하는 등 필요한 조치를 하여야 한다.<개정 2013. 3. 23., 2014. 11.\\n19., 2015. 8. 11., 2017. 7. 26.>\\n③ 어린이의 보호자는 도로에서 어린이가 자전거를 타거나 행정안전부령으로 정하는 위험성이 큰 움직이는 놀이기\\n구를 타는 경우에는 어린이의 안전을 위하여 행정안전부령으로 정하는 인명보호 장구(裝具)를 착용하도록 하여야\\n한다.<개정 2013. 3. 23., 2014. 11. 19., 2017. 7. 26.>\\n④ 어린이의 보호자는 도로에서 어린이가 개인형 이동장치를 운전하게 하여서는 아니 된다.<신설 2020. 6. 9.>\\n⑤ 경찰공무원은 신체에 장애가 있는 사람이 도로를 통행하거나 횡단하기 위하여 도움을 요청하거나 도움이 필요\\n하다고 인정하는 경우에는 그 사람이 안전하게 통행하거나 횡단할 수 있도록 필요한 조치를 하여야 한다.<개정\\n2020. 6. 9.>\\n⑥ 경찰공무원은 다음 각 호의 어느 하나에 해당하는 사람을 발견한 경우에는 그들의 안전을 위하여 적절한 조치를\\n하여야 한다.<개정 2014. 12. 30., 2015. 8. 11., 2020. 6. 9.>\\n1. 교통이 빈번한 도로에서 놀고 있는 어린이\\n2. 보호자 없이 도로를 보행하는 영유아\\n3. 앞을 보지 못하는 사람으로서 흰색 지팡이를 가지지 아니하거나 장애인보조견을 동반하지 아니하는 등 필요한\\n조치를 하지 아니하고 다니는 사람\\n4. 횡단보도나 교통이 빈번한 도로에서 보행에 어려움을 겪고 있는 노인(65세 이상인 사람을 말한다. 이하 같다)',\n",
       " '어린이ㆍ노인 및 장애인 보호구역의 지정 및 관리에 관한 규칙 제3조(보호구역의 지정) ① 초등학교등의 장은 별지 제1호서식의 어린이 보호구역 지정 신청서에 따라 특별시장ㆍ광역\\n시장ㆍ특별자치도지사 또는 시장ㆍ군수(광역시의 군수는 제외한다. 이하 “시장등”이라 한다)에게 초등학교등의 주변\\n도로를 어린이 보호구역으로 지정하여 줄 것을 신청할 수 있다. 다만, 개교 또는 개원을 하기 전의 초등학교등의 경',\n",
       " '청소년 보호법 시행령 제29조(청소년 통행금지구역 등의 설정) 법 제31조에 따른 청소년 통행금지구역은 청소년의 통행을 24시간 금지하는\\n구역으로 하고, 청소년 통행제한구역은 청소년의 통행을 일정 시간 제한하는 구역으로 한다. 다만, 친권자, 후견인,\\n교사 그 밖에 해당 청소년을 보호할 수 있는 보호자를 동반하는 때에는 통행할 수 있다.',\n",
       " '주택건설기준 등에 관한 규정 제33조(보안등) ①주택단지안의 어린이놀이터 및 도로(폭 15미터이상인 도로의 경우에는 도로의 양측)에는 보안등을\\n설치하여야 한다. 이 경우 당해 도로에 설치하는 보안등의 간격은 50미터 이내로 하여야 한다. <개정 1998. 8. 27.>\\n②제1항의 규정에 의한 보안등에는 외부의 밝기에 따라 자동으로 켜지고 꺼지는 장치 또는 시간을 조절하는 장치를\\n부착하여야 한다.',\n",
       " '도로교통법 시행규칙 제14조(어린이집 및 학원의 범위) ① 법 제12조제1항제2호에서 “행정안전부령으로 정하는 어린이집”이란 정원 100명\\n이상의 어린이집을 말한다. 다만, 시장등이 관할 경찰서장과 협의하여 어린이집이 소재한 지역의 교통여건 등을 고\\n려하여 교통사고의 위험으로부터 어린이를 보호할 필요가 있다고 인정하는 경우에는 정원이 100명 미만의 어린이집\\n주변도로 등에 대하여도 어린이 보호구역을 지정할 수 있다. <개정 2010. 12. 31., 2013. 3. 23., 2014. 11. 19., 2017.\\n7. 26., 2023. 6. 20.>\\n② 법 제12조제1항제3호에서 “행정안전부령으로 정하는 학원”이란 「학원의 설립ㆍ운영 및 과외교습에 관한 법률\\n시행령」 별표 2의 학교교과교습학원 중 학원 수강생이 100명 이상인 학원을 말한다. 다만, 시장등이 관할 경찰서장\\n과 협의하여 학원이 소재한 지역의 교통여건 등을 고려하여 교통사고의 위험으로부터 어린이를 보호할 필요가 있\\n다고 인정하는 경우에는 정원이 100인명 미만의 학원 주변도로 등에 대해서도 어린이 보호구역을 지정할 수 있다.\\n<신설 2010. 12. 31., 2013. 3. 23., 2014. 11. 19., 2017. 7. 26., 2022. 10. 20.>\\n\\n제14조의2(무인 교통단속용 장비의 설치 장소) 법 제12조제4항에서 “행정안전부령으로 정하는 곳”이란 별표 6의2 제\\n1호에 따른 무인 교통단속용 장비의 설치기준에 따라 시ㆍ도경찰청장, 경찰서장 또는 시장등이 선정하는 곳을 말한\\n다. <개정 2020. 12. 31., 2023. 7. 4.>',\n",
       " '자동차 및 자동차부품의 성능과 기준에 관한 규칙 제54조(속도계 및 주행거리계) ① 자동차에는 제110조에 따른 속도계와 통산 운행거리를 표시할 수 있는 구조의 주행\\n거리계를 설치하여야 한다. <개정 2014. 6. 10.>\\n②다음 각 호의 자동차(「도로교통법」 제2조제22호에 따른 긴급자동차와 당해 자동차의 최고속도가 제3항의 규정\\n에서 정한 속도를 초과하지 아니하는 구조의 자동차를 제외한다)에는 최고속도제한장치를 설치하여야 한다.<개정\\n1995. 7. 21., 1995. 12. 30., 1997. 1. 17., 2003. 2. 25., 2005. 8. 10., 2010. 3. 29., 2012. 2. 15., 2017. 11. 14.>\\n1. 승합자동차(제2조제32호에 따른 어린이운송용 승합자동차를 포함한다)\\n2. 차량총중량이 3.5톤을 초과하는 화물자동차ㆍ특수자동차(피견인자동차를 연결하는 견인자동차를 포함한다)',\n",
       " '어린이ㆍ노인 및 장애인 보호구역의 지정 및 관리에 관한 규칙 제6조(교통안전시설의 설치) ① 시ㆍ도경찰청장이나 경찰서장은 제3조제6항에 따라 보호구역으로 지정한 시설 또는\\n장소의 주 출입문과 가장 가까운 거리에 위치한 간선도로의 횡단보도에는 신호기를 우선적으로 설치ㆍ관리해야 한\\n다. <개정 2020. 12. 31., 2022. 4. 20.>\\n② 제1항에 따라 설치되는 보행 신호등의 녹색신호시간은 어린이, 노인 또는 장애인의 평균 보행속도를 기준으로\\n하여 설정하여야 한다.\\n③ 시ㆍ도경찰청장이나 경찰서장은 제3조제6항에 따라 지정된 보호구역에 다음 각 호의 구분에 따라 안전표지를\\n설치하여야 한다.<개정 2020. 12. 31.>\\n1. 어린이 보호구역: 「도로교통법 시행규칙」(이하 이 조에서 “시행규칙”이라 한다) 별표 6 Ⅱ. 개별기준의 제133호ㆍ\\n제324호 및 제536호의 안전표지\\n2. 노인 보호구역: 시행규칙 별표 6 Ⅱ. 개별기준의 제323호 및 제536호의2의 안전표지\\n3. 장애인 보호구역: 시행규칙 별표 6 Ⅱ. 개별기준의 제324호의2 및 제536호의3의 안전표지',\n",
       " '도로교통법 제51조(어린이통학버스의 특별보호) ① 어린이통학버스가 도로에 정차하여 어린이나 영유아가 타고 내리는 중임을 표\\n시하는 점멸등 등의 장치를 작동 중일 때에는 어린이통학버스가 정차한 차로와 그 차로의 바로 옆 차로로 통행하는\\n차의 운전자는 어린이통학버스에 이르기 전에 일시정지하여 안전을 확인한 후 서행하여야 한다. <개정 2014. 12.\\n30.>\\n② 제1항의 경우 중앙선이 설치되지 아니한 도로와 편도 1차로인 도로에서는 반대방향에서 진행하는 차의 운전자\\n도 어린이통학버스에 이르기 전에 일시정지하여 안전을 확인한 후 서행하여야 한다.\\n③ 모든 차의 운전자는 어린이나 영유아를 태우고 있다는 표시를 한 상태로 도로를 통행하는 어린이통학버스를 앞\\n지르지 못한다.<개정 2014. 12. 30.>',\n",
       " '어린이ㆍ노인 및 장애인 보호구역의 지정 및 관리에 관한 규칙 제10조(어린이ㆍ노인 및 장애인에 대한 교통안전교육 등) ① 시장등이나 경찰서장은 관할 구역 내 보호구역으로 지정\\n된 시설의 장이나 장소의 관리자가 요청하여 필요하다고 인정하는 경우에는 해당 시설 또는 장소를 방문하여 어린\\n이ㆍ노인 또는 장애인을 대상으로 보행안전 등에 관한 교통안전교육을 실시한다. <개정 2022. 4. 20.>\\n② 시장등이나 경찰서장은 어린이ㆍ노인 및 장애인의 안전한 통행을 위하여 필요하다고 인정하는 경우에는 어린이\\nㆍ노인 또는 장애인이 많이 지나다니는 시간대에 관할 보호구역의 주요 횡단보도 등에 경찰공무원이나 모범운전자\\n등을 배치하여 어린이ㆍ노인 및 장애인이 안전하게 도로를 횡단할 수 있도록 지도하여야 한다.']"
      ]
     },
     "execution_count": 50,
     "metadata": {},
     "output_type": "execute_result"
    }
   ],
   "source": [
    "retrieved_docs"
   ]
  },
  {
   "cell_type": "code",
   "execution_count": 51,
   "metadata": {},
   "outputs": [
    {
     "data": {
      "text/plain": [
       "['어린이 식생활안전관리 특별법 시행령 제2조(어린이 기호식품) 「어린이 식생활안전관리 특별법」(이하 “법”이라 한다) 제2조제2호에 따른 어린이 기호식품은\\n별표 1과 같다.',\n",
       " '도로교통법 제11조(어린이 등에 대한 보호) ① 어린이의 보호자는 교통이 빈번한 도로에서 어린이를 놀게 하여서는 아니 되며, 영\\n유아(6세 미만인 사람을 말한다. 이하 같다)의 보호자는 교통이 빈번한 도로에서 영유아가 혼자 보행하게 하여서는\\n아니 된다. <개정 2014. 12. 30.>\\n② 앞을 보지 못하는 사람(이에 준하는 사람을 포함한다. 이하 같다)의 보호자는 그 사람이 도로를 보행할 때에는 흰\\n색 지팡이를 갖고 다니도록 하거나 앞을 보지 못하는 사람에게 길을 안내하는 개로서 행정안전부령으로 정하는 개\\n(이하 “장애인보조견”이라 한다)를 동반하도록 하는 등 필요한 조치를 하여야 한다.<개정 2013. 3. 23., 2014. 11.\\n19., 2015. 8. 11., 2017. 7. 26.>\\n③ 어린이의 보호자는 도로에서 어린이가 자전거를 타거나 행정안전부령으로 정하는 위험성이 큰 움직이는 놀이기\\n구를 타는 경우에는 어린이의 안전을 위하여 행정안전부령으로 정하는 인명보호 장구(裝具)를 착용하도록 하여야\\n한다.<개정 2013. 3. 23., 2014. 11. 19., 2017. 7. 26.>\\n④ 어린이의 보호자는 도로에서 어린이가 개인형 이동장치를 운전하게 하여서는 아니 된다.<신설 2020. 6. 9.>\\n⑤ 경찰공무원은 신체에 장애가 있는 사람이 도로를 통행하거나 횡단하기 위하여 도움을 요청하거나 도움이 필요\\n하다고 인정하는 경우에는 그 사람이 안전하게 통행하거나 횡단할 수 있도록 필요한 조치를 하여야 한다.<개정\\n2020. 6. 9.>\\n⑥ 경찰공무원은 다음 각 호의 어느 하나에 해당하는 사람을 발견한 경우에는 그들의 안전을 위하여 적절한 조치를\\n하여야 한다.<개정 2014. 12. 30., 2015. 8. 11., 2020. 6. 9.>\\n1. 교통이 빈번한 도로에서 놀고 있는 어린이\\n2. 보호자 없이 도로를 보행하는 영유아\\n3. 앞을 보지 못하는 사람으로서 흰색 지팡이를 가지지 아니하거나 장애인보조견을 동반하지 아니하는 등 필요한\\n조치를 하지 아니하고 다니는 사람\\n4. 횡단보도나 교통이 빈번한 도로에서 보행에 어려움을 겪고 있는 노인(65세 이상인 사람을 말한다. 이하 같다)',\n",
       " '청소년 보호법 시행령 제29조(청소년 통행금지구역 등의 설정) 법 제31조에 따른 청소년 통행금지구역은 청소년의 통행을 24시간 금지하는\\n구역으로 하고, 청소년 통행제한구역은 청소년의 통행을 일정 시간 제한하는 구역으로 한다. 다만, 친권자, 후견인,\\n교사 그 밖에 해당 청소년을 보호할 수 있는 보호자를 동반하는 때에는 통행할 수 있다.',\n",
       " '도로교통법 제51조(어린이통학버스의 특별보호) ① 어린이통학버스가 도로에 정차하여 어린이나 영유아가 타고 내리는 중임을 표\\n시하는 점멸등 등의 장치를 작동 중일 때에는 어린이통학버스가 정차한 차로와 그 차로의 바로 옆 차로로 통행하는\\n차의 운전자는 어린이통학버스에 이르기 전에 일시정지하여 안전을 확인한 후 서행하여야 한다. <개정 2014. 12.\\n30.>\\n② 제1항의 경우 중앙선이 설치되지 아니한 도로와 편도 1차로인 도로에서는 반대방향에서 진행하는 차의 운전자\\n도 어린이통학버스에 이르기 전에 일시정지하여 안전을 확인한 후 서행하여야 한다.\\n③ 모든 차의 운전자는 어린이나 영유아를 태우고 있다는 표시를 한 상태로 도로를 통행하는 어린이통학버스를 앞\\n지르지 못한다.<개정 2014. 12. 30.>',\n",
       " '도로교통법 시행규칙 제14조(어린이집 및 학원의 범위) ① 법 제12조제1항제2호에서 “행정안전부령으로 정하는 어린이집”이란 정원 100명\\n이상의 어린이집을 말한다. 다만, 시장등이 관할 경찰서장과 협의하여 어린이집이 소재한 지역의 교통여건 등을 고\\n려하여 교통사고의 위험으로부터 어린이를 보호할 필요가 있다고 인정하는 경우에는 정원이 100명 미만의 어린이집\\n주변도로 등에 대하여도 어린이 보호구역을 지정할 수 있다. <개정 2010. 12. 31., 2013. 3. 23., 2014. 11. 19., 2017.\\n7. 26., 2023. 6. 20.>\\n② 법 제12조제1항제3호에서 “행정안전부령으로 정하는 학원”이란 「학원의 설립ㆍ운영 및 과외교습에 관한 법률\\n시행령」 별표 2의 학교교과교습학원 중 학원 수강생이 100명 이상인 학원을 말한다. 다만, 시장등이 관할 경찰서장\\n과 협의하여 학원이 소재한 지역의 교통여건 등을 고려하여 교통사고의 위험으로부터 어린이를 보호할 필요가 있\\n다고 인정하는 경우에는 정원이 100인명 미만의 학원 주변도로 등에 대해서도 어린이 보호구역을 지정할 수 있다.\\n<신설 2010. 12. 31., 2013. 3. 23., 2014. 11. 19., 2017. 7. 26., 2022. 10. 20.>\\n\\n제14조의2(무인 교통단속용 장비의 설치 장소) 법 제12조제4항에서 “행정안전부령으로 정하는 곳”이란 별표 6의2 제\\n1호에 따른 무인 교통단속용 장비의 설치기준에 따라 시ㆍ도경찰청장, 경찰서장 또는 시장등이 선정하는 곳을 말한\\n다. <개정 2020. 12. 31., 2023. 7. 4.>',\n",
       " '도로교통법 시행규칙 제36조(어린이 보호표지) 영 제31조제2호에 따른 어린이 보호표지는 별표 14와 같다.',\n",
       " '주택건설기준 등에 관한 규정 제33조(보안등) ①주택단지안의 어린이놀이터 및 도로(폭 15미터이상인 도로의 경우에는 도로의 양측)에는 보안등을\\n설치하여야 한다. 이 경우 당해 도로에 설치하는 보안등의 간격은 50미터 이내로 하여야 한다. <개정 1998. 8. 27.>\\n②제1항의 규정에 의한 보안등에는 외부의 밝기에 따라 자동으로 켜지고 꺼지는 장치 또는 시간을 조절하는 장치를\\n부착하여야 한다.',\n",
       " '어린이ㆍ노인 및 장애인 보호구역의 지정 및 관리에 관한 규칙 제6조(교통안전시설의 설치) ① 시ㆍ도경찰청장이나 경찰서장은 제3조제6항에 따라 보호구역으로 지정한 시설 또는\\n장소의 주 출입문과 가장 가까운 거리에 위치한 간선도로의 횡단보도에는 신호기를 우선적으로 설치ㆍ관리해야 한\\n다. <개정 2020. 12. 31., 2022. 4. 20.>\\n② 제1항에 따라 설치되는 보행 신호등의 녹색신호시간은 어린이, 노인 또는 장애인의 평균 보행속도를 기준으로\\n하여 설정하여야 한다.\\n③ 시ㆍ도경찰청장이나 경찰서장은 제3조제6항에 따라 지정된 보호구역에 다음 각 호의 구분에 따라 안전표지를\\n설치하여야 한다.<개정 2020. 12. 31.>\\n1. 어린이 보호구역: 「도로교통법 시행규칙」(이하 이 조에서 “시행규칙”이라 한다) 별표 6 Ⅱ. 개별기준의 제133호ㆍ\\n제324호 및 제536호의 안전표지\\n2. 노인 보호구역: 시행규칙 별표 6 Ⅱ. 개별기준의 제323호 및 제536호의2의 안전표지\\n3. 장애인 보호구역: 시행규칙 별표 6 Ⅱ. 개별기준의 제324호의2 및 제536호의3의 안전표지',\n",
       " '어린이ㆍ노인 및 장애인 보호구역의 지정 및 관리에 관한 규칙 제3조(보호구역의 지정) ① 초등학교등의 장은 별지 제1호서식의 어린이 보호구역 지정 신청서에 따라 특별시장ㆍ광역\\n시장ㆍ특별자치도지사 또는 시장ㆍ군수(광역시의 군수는 제외한다. 이하 “시장등”이라 한다)에게 초등학교등의 주변\\n도로를 어린이 보호구역으로 지정하여 줄 것을 신청할 수 있다. 다만, 개교 또는 개원을 하기 전의 초등학교등의 경',\n",
       " '어린이 식생활안전관리 특별법 시행규칙 제19조(식생활 안전ㆍ영양수준 평가 방법) ① 식품의약품안전처장은 제18조에 따른 식생활 안전ㆍ영양수준 조사ㆍ평\\n가를 위하여 관련 전문가 및 공무원 등으로 구성된 평가반을 구성하여 운영할 수 있다. <개정 2013. 3. 23.>\\n② 평가반은 조사ㆍ평가가 끝난 후 1개월 이내에 그 결과를 법 제25조제1항에 따른 어린이식생활안전관리위원회의\\n심의를 거쳐 식품의약품안전처장에게 보고하여야 한다.<개정 2013. 3. 23.>\\n③ 식품의약품안전처장은 제2항에 따른 심의 결과를 지체 없이 인터넷 홈페이지 또는 「신문 등의 진흥에 관한 법률\\n」 제9조제1항에 따라 보급지역을 전국으로 등록한 일반일간신문 등을 이용하여 국민에게 알려야 한다.<개정 2013.\\n3. 23., 2020. 7. 8.>\\n제19조의2(실태조사의 방법 등) ① 법 제26조의2제1항에 따라 식품의약품안전처장은 어린이 및 어린이가 주로 활동하\\n는 공간 등을 대상으로 어린이 식생활안전관리에 관한 실태조사(이하 “실태조사”라 한다)를 실시한다.\\n② 식품의약품안전처장은 제1항에 따른 실태조사를 어린이 식생활안전관리에 관한 전문인력 및 장비를 갖춘 연구\\n기관, 법인 또는 단체에 의뢰하여 실시할 수 있다.\\n③ 제1항에 따른 실태조사에는 다음 각 호의 사항이 포함되어야 한다.\\n1. 어린이 기호식품 생산 및 소비현황\\n2. 어린이 기호식품 생산ㆍ유통ㆍ조리ㆍ판매업소 현황\\n3. 고열량ㆍ저영양 식품 및 고카페인 함유 식품 현황(저감화 현황을 포함한다)\\n4. 학교, 학원, 어린이 놀이시설 주변 등 어린이 생활공간의 식생활 환경 현황\\n5. 어린이 식생활안전교육 현황\\n6. 어린이 식생활 개선 현황\\n7. 그 밖에 어린이 식생활안전과 관련하여 식품의약품안전처장이 필요하다고 인정하는 사항',\n",
       " '어린이 식생활안전관리 특별법 제5조(어린이 식품안전보호구역 지정) ① 특별자치시장ㆍ특별자치도지사ㆍ시장ㆍ군수ㆍ구청장(자치구의 구청장을 말\\n한다. 이하 같다)은 안전하고 위생적인 식품판매 환경의 조성으로 어린이를 보호하기 위하여 학교와 해당 학교의 경\\n계선으로부터 직선거리 200미터의 범위 안의 구역을 어린이 식품안전보호구역(이하 “어린이 식품안전보호구역”이라\\n한다)으로 지정ㆍ관리할 수 있다. <개정 2021. 7. 27.>\\n② 어린이 식품안전보호구역 지정에 관한 세부사항은 대통령령으로 정한다.',\n",
       " '철도차량운전규칙 제83조(차내신호) 차내신호의 종류 및 그 제한속도는 다음 각 호와 같다.\\n1. 정지신호：열차운행에 지장이 있는 구간으로 운행하는 열차에 대하여 정지하도록 하는 것\\n2. 15신호：정지신호에 의하여 정지한 열차에 대한 신호로서 1시간에 15킬로미터 이하의 속도로 운전하게 하는 것\\n3. 야드신호：입환차량에 대한 신호로서 1시간에 25킬로미터 이하의 속도로 운전하게 하는 것\\n4. 진행신호：열차를 지정된 속도 이하로 운전하게 하는 것',\n",
       " '어린이 식생활안전관리 특별법 시행규칙 제3조(어린이 식품안전보호구역 표지판 설치 및 관리기준) 영 제4조에 따른 어린이 식품안전보호구역을 알리는 표지판\\n의 설치 및 관리기준은 별표 1과 같다.',\n",
       " '식품의약품안전처와 그 소속기관 직제 시행규칙 제11조(식품소비안전국) ① 식품소비안전국장은 고위공무원단에 속하는 일반직공무원ㆍ보건연구관 또는 공업연구관\\n으로 보하되, 그 직위의 직무등급은 나등급으로 한다.\\n② 식품소비안전국에 식생활영양안전정책과ㆍ축산물안전정책과ㆍ농수산물안전정책과 및 식중독예방과를 두되, 식\\n생활영양안전정책과장ㆍ축산물안전정책과장 및 농수산물안전정책과장은 부이사관ㆍ과학기술서기관ㆍ서기관 또는\\n수석전문관으로, 식중독예방과장은 과학기술서기관ㆍ서기관ㆍ보건연구관ㆍ공업연구관 또는 수석전문관으로 보한\\n다.<개정 2020. 1. 9., 2020. 8. 31., 2020. 12. 31., 2023. 6. 1., 2023. 8. 30.>\\n③ 식생활영양안전정책과장은 다음 사항을 분장한다.<개정 2018. 12. 11.>\\n1. 어린이 식생활안전관리, 식품영양 안전에 관한 정책 개발 및 제도개선\\n2. 어린이 식생활안전관리, 식품영양 안전 정책 및 종합계획의 수립 및 총괄\\n3. 「어린이 식생활안전관리 특별법」의 개정 및 운영\\n4. 어린이 식품안전보호구역 및 우수판매업소 지정제도 운영 및 관리\\n5. 시ㆍ군ㆍ구(자치구를 말한다) 식생활 안전ㆍ영양수준 평가 제도의 운영\\n6. 어린이 식생활 안전 지수 조사\\n7. 어린이 기호식품 지정제도 운영\\n8. 어린이 기호식품의 품질인증기준 제정ㆍ개정 및 제도 운영\\n9. 고열량ㆍ저영양 식품의 광고 제한ㆍ판매금지 제도 운영 및 단속에 관한 사항\\n10. 단체급식 안전관리\\n11. 어린이 급식관리지원센터 설치ㆍ운영에 관한 사항\\n12. 어린이 식품안전ㆍ영양 관련 교육ㆍ홍보',\n",
       " '어린이 식생활안전관리 특별법 제6조(어린이 기호식품 조리ㆍ판매업소 관리) ① 특별자치시장ㆍ특별자치도지사ㆍ시장ㆍ군수ㆍ구청장은 어린이 식품\\n안전보호구역에서 어린이 기호식품을 조리 또는 진열ㆍ판매하는 업소 중 대통령령으로 정하는 업소를 어린이 기호\\n식품 조리ㆍ판매업소(이하 “조리ㆍ판매업소”라 한다)로 관리하여야 한다. <개정 2021. 7. 27.>',\n",
       " '어린이ㆍ노인 및 장애인 보호구역의 지정 및 관리에 관한 규칙 제10조(어린이ㆍ노인 및 장애인에 대한 교통안전교육 등) ① 시장등이나 경찰서장은 관할 구역 내 보호구역으로 지정\\n된 시설의 장이나 장소의 관리자가 요청하여 필요하다고 인정하는 경우에는 해당 시설 또는 장소를 방문하여 어린\\n이ㆍ노인 또는 장애인을 대상으로 보행안전 등에 관한 교통안전교육을 실시한다. <개정 2022. 4. 20.>\\n② 시장등이나 경찰서장은 어린이ㆍ노인 및 장애인의 안전한 통행을 위하여 필요하다고 인정하는 경우에는 어린이\\nㆍ노인 또는 장애인이 많이 지나다니는 시간대에 관할 보호구역의 주요 횡단보도 등에 경찰공무원이나 모범운전자\\n등을 배치하여 어린이ㆍ노인 및 장애인이 안전하게 도로를 횡단할 수 있도록 지도하여야 한다.',\n",
       " '어린이 식생활안전관리 특별법 시행령 제3조(어린이 식품안전보호구역의 지정 등) ① 특별자치시장ㆍ특별자치도지사ㆍ시장ㆍ군수 또는 구청장(자치구의 구\\n청장을 말한다. 이하 같다)은 법 제5조제1항에 따른 어린이 식품안전보호구역(이하 “어린이 식품안전보호구역”이라\\n한다)을 지정하려면 「지방교육자치에 관한 법률」 제34조제3항에 따른 관할 교육장과 협의해야 한다. <개정 2021.\\n12. 14.>\\n② 특별자치시장ㆍ특별자치도지사ㆍ시장ㆍ군수 또는 구청장은 어린이 식품안전보호구역을 지정하려면 미리 다음\\n각 호의 사항을 조사해야 한다.<개정 2021. 12. 14.>\\n1. 학교 및 학교 주변에 설치된 식품자동판매기의 개수 및 종류\\n2. 학교 안에서 판매하고 있는 주요 식품의 종류 등\\n3. 통학하는 학생 수\\n4. 학교 주변에서 어린이 기호식품을 조리 또는 진열ㆍ판매하는 영업소의 수 및 종류\\n③ 특별자치시장ㆍ특별자치도지사ㆍ시장ㆍ군수 또는 구청장은 어린이 식품안전보호구역을 지정하였을 때에는 총\\n리령으로 정하는 바에 따라 식품의약품안전처장에게 통보하고 관리해야 한다.<개정 2010. 3. 15., 2013. 3. 23.,\\n2021. 12. 14.>\\n④ 특별자치시장ㆍ특별자치도지사ㆍ시장ㆍ군수 또는 구청장은 해당 학교가 폐교하거나 주변의 환경 변화 등이 있\\n는 경우에는 제1항에 따른 관할 교육장과 협의하여 어린이 식품안전보호구역의 지정을 해제하거나 지정구역을 변\\n경할 수 있다.<개정 2021. 12. 14.>',\n",
       " '어린이 식생활안전관리 특별법 제26조(어린이 식생활 안전관리종합계획 수립) ① 식품의약품안전처장은 3년마다 관계 중앙행정기관의 장과 협의하여\\n어린이 기호식품과 단체급식 등의 안전 및 영양관리 등에 관한 어린이 식생활 안전관리종합계획을 위원회의 심의를\\n거쳐 수립하여야 한다. <개정 2013. 3. 23., 2016. 2. 3.>\\n② 제1항에 따른 어린이 식생활 안전관리종합계획(이하 “종합계획”이라 한다)은 다음 각 호의 사항이 포함되어야 한\\n다.\\n1. 어린이 기호식품 등의 안전정책의 목표 및 기본방향\\n2. 어린이 기호식품 등의 변화와 전망\\n3. 어린이 기호식품 등의 제도개선에 관한 사항\\n4. 어린이 기호식품 등에 관련한 연구 및 기술개발에 관한 사항\\n5. 어린이 기호식품 등의 안전을 위한 국제협력에 관한 사항\\n6. 어린이 기호식품 등을 제조ㆍ가공ㆍ수입ㆍ조리하여 판매하는 자에 대한 지원과 안전성 확보를 위한 지원방법에\\n관한 사항\\n7. 그 밖에 어린이 기호식품 등의 안전성 확보를 위하여 필요한 사항\\n③ 식품의약품안전처장, 관계 중앙행정기관의 장 및 지방자치단체의 장은 종합계획을 기초로 하여 매년 어린이 식\\n생활 안전관리시행계획(이하 “시행계획”이라 한다)을 수립ㆍ시행하여야 한다.<개정 2016. 2. 3.>\\n④ 그 밖에 종합계획 및 시행계획의 수립ㆍ시행에 관하여 필요한 사항은 대통령령으로 정한다.\\n제26조의2(실태조사 등) ① 식품의약품안전처장은 제26조에 따른 종합계획 및 시행계획의 수립ㆍ시행에 필요한 기초\\n자료를 확보하기 위하여 어린이 식생활안전관리에 관한 실태조사를 3년마다 실시하고 그 결과를 공표하여야 한다.\\n② 식품의약품안전처장은 제1항에 따른 실태조사를 위하여 「공공기관의 운영에 관한 법률」에 따른 공공기관의 장,\\n식품산업을 영위하는 자, 그 밖의 관련 기관 및 단체 등에 대하여 필요한 자료의 제출이나 의견의 진술을 요청할 수\\n있다. 이 경우 요청을 받은 자는 정당한 사유가 없으면 요청에 협조하여야 한다.\\n③ 식품의약품안전처는 제1항에 따른 실태조사와 제23조제1항에 따른 식생활 안전지수 조사를 통합하여 실시할 수\\n있다.\\n④ 제1항에 따른 실태조사의 방법 등에 필요한 사항은 총리령으로 정한다.\\n\\n제7장 시정명령 등',\n",
       " '자동차 및 자동차부품의 성능과 기준에 관한 규칙 제54조(속도계 및 주행거리계) ① 자동차에는 제110조에 따른 속도계와 통산 운행거리를 표시할 수 있는 구조의 주행\\n거리계를 설치하여야 한다. <개정 2014. 6. 10.>\\n②다음 각 호의 자동차(「도로교통법」 제2조제22호에 따른 긴급자동차와 당해 자동차의 최고속도가 제3항의 규정\\n에서 정한 속도를 초과하지 아니하는 구조의 자동차를 제외한다)에는 최고속도제한장치를 설치하여야 한다.<개정\\n1995. 7. 21., 1995. 12. 30., 1997. 1. 17., 2003. 2. 25., 2005. 8. 10., 2010. 3. 29., 2012. 2. 15., 2017. 11. 14.>\\n1. 승합자동차(제2조제32호에 따른 어린이운송용 승합자동차를 포함한다)\\n2. 차량총중량이 3.5톤을 초과하는 화물자동차ㆍ특수자동차(피견인자동차를 연결하는 견인자동차를 포함한다)']"
      ]
     },
     "execution_count": 51,
     "metadata": {},
     "output_type": "execute_result"
    }
   ],
   "source": [
    "reranked_docs"
   ]
  },
  {
   "cell_type": "code",
   "execution_count": 52,
   "metadata": {},
   "outputs": [
    {
     "data": {
      "text/plain": [
       "['도로교통법 시행규칙 제36조(어린이 보호표지) 영 제31조제2호에 따른 어린이 보호표지는 별표 14와 같다.',\n",
       " '어린이 식생활안전관리 특별법 제5조(어린이 식품안전보호구역 지정) ① 특별자치시장ㆍ특별자치도지사ㆍ시장ㆍ군수ㆍ구청장(자치구의 구청장을 말\\n한다. 이하 같다)은 안전하고 위생적인 식품판매 환경의 조성으로 어린이를 보호하기 위하여 학교와 해당 학교의 경\\n계선으로부터 직선거리 200미터의 범위 안의 구역을 어린이 식품안전보호구역(이하 “어린이 식품안전보호구역”이라\\n한다)으로 지정ㆍ관리할 수 있다. <개정 2021. 7. 27.>\\n② 어린이 식품안전보호구역 지정에 관한 세부사항은 대통령령으로 정한다.',\n",
       " '청소년 보호법 시행령 제29조(청소년 통행금지구역 등의 설정) 법 제31조에 따른 청소년 통행금지구역은 청소년의 통행을 24시간 금지하는\\n구역으로 하고, 청소년 통행제한구역은 청소년의 통행을 일정 시간 제한하는 구역으로 한다. 다만, 친권자, 후견인,\\n교사 그 밖에 해당 청소년을 보호할 수 있는 보호자를 동반하는 때에는 통행할 수 있다.',\n",
       " '어린이ㆍ노인 및 장애인 보호구역의 지정 및 관리에 관한 규칙 제6조(교통안전시설의 설치) ① 시ㆍ도경찰청장이나 경찰서장은 제3조제6항에 따라 보호구역으로 지정한 시설 또는\\n장소의 주 출입문과 가장 가까운 거리에 위치한 간선도로의 횡단보도에는 신호기를 우선적으로 설치ㆍ관리해야 한\\n다. <개정 2020. 12. 31., 2022. 4. 20.>\\n② 제1항에 따라 설치되는 보행 신호등의 녹색신호시간은 어린이, 노인 또는 장애인의 평균 보행속도를 기준으로\\n하여 설정하여야 한다.\\n③ 시ㆍ도경찰청장이나 경찰서장은 제3조제6항에 따라 지정된 보호구역에 다음 각 호의 구분에 따라 안전표지를\\n설치하여야 한다.<개정 2020. 12. 31.>\\n1. 어린이 보호구역: 「도로교통법 시행규칙」(이하 이 조에서 “시행규칙”이라 한다) 별표 6 Ⅱ. 개별기준의 제133호ㆍ\\n제324호 및 제536호의 안전표지\\n2. 노인 보호구역: 시행규칙 별표 6 Ⅱ. 개별기준의 제323호 및 제536호의2의 안전표지\\n3. 장애인 보호구역: 시행규칙 별표 6 Ⅱ. 개별기준의 제324호의2 및 제536호의3의 안전표지',\n",
       " '주택건설기준 등에 관한 규정 제33조(보안등) ①주택단지안의 어린이놀이터 및 도로(폭 15미터이상인 도로의 경우에는 도로의 양측)에는 보안등을\\n설치하여야 한다. 이 경우 당해 도로에 설치하는 보안등의 간격은 50미터 이내로 하여야 한다. <개정 1998. 8. 27.>\\n②제1항의 규정에 의한 보안등에는 외부의 밝기에 따라 자동으로 켜지고 꺼지는 장치 또는 시간을 조절하는 장치를\\n부착하여야 한다.',\n",
       " '도로교통법 시행규칙 제14조(어린이집 및 학원의 범위) ① 법 제12조제1항제2호에서 “행정안전부령으로 정하는 어린이집”이란 정원 100명\\n이상의 어린이집을 말한다. 다만, 시장등이 관할 경찰서장과 협의하여 어린이집이 소재한 지역의 교통여건 등을 고\\n려하여 교통사고의 위험으로부터 어린이를 보호할 필요가 있다고 인정하는 경우에는 정원이 100명 미만의 어린이집\\n주변도로 등에 대하여도 어린이 보호구역을 지정할 수 있다. <개정 2010. 12. 31., 2013. 3. 23., 2014. 11. 19., 2017.\\n7. 26., 2023. 6. 20.>\\n② 법 제12조제1항제3호에서 “행정안전부령으로 정하는 학원”이란 「학원의 설립ㆍ운영 및 과외교습에 관한 법률\\n시행령」 별표 2의 학교교과교습학원 중 학원 수강생이 100명 이상인 학원을 말한다. 다만, 시장등이 관할 경찰서장\\n과 협의하여 학원이 소재한 지역의 교통여건 등을 고려하여 교통사고의 위험으로부터 어린이를 보호할 필요가 있\\n다고 인정하는 경우에는 정원이 100인명 미만의 학원 주변도로 등에 대해서도 어린이 보호구역을 지정할 수 있다.\\n<신설 2010. 12. 31., 2013. 3. 23., 2014. 11. 19., 2017. 7. 26., 2022. 10. 20.>\\n\\n제14조의2(무인 교통단속용 장비의 설치 장소) 법 제12조제4항에서 “행정안전부령으로 정하는 곳”이란 별표 6의2 제\\n1호에 따른 무인 교통단속용 장비의 설치기준에 따라 시ㆍ도경찰청장, 경찰서장 또는 시장등이 선정하는 곳을 말한\\n다. <개정 2020. 12. 31., 2023. 7. 4.>',\n",
       " '자동차 및 자동차부품의 성능과 기준에 관한 규칙 제54조(속도계 및 주행거리계) ① 자동차에는 제110조에 따른 속도계와 통산 운행거리를 표시할 수 있는 구조의 주행\\n거리계를 설치하여야 한다. <개정 2014. 6. 10.>\\n②다음 각 호의 자동차(「도로교통법」 제2조제22호에 따른 긴급자동차와 당해 자동차의 최고속도가 제3항의 규정\\n에서 정한 속도를 초과하지 아니하는 구조의 자동차를 제외한다)에는 최고속도제한장치를 설치하여야 한다.<개정\\n1995. 7. 21., 1995. 12. 30., 1997. 1. 17., 2003. 2. 25., 2005. 8. 10., 2010. 3. 29., 2012. 2. 15., 2017. 11. 14.>\\n1. 승합자동차(제2조제32호에 따른 어린이운송용 승합자동차를 포함한다)\\n2. 차량총중량이 3.5톤을 초과하는 화물자동차ㆍ특수자동차(피견인자동차를 연결하는 견인자동차를 포함한다)',\n",
       " '도로교통법 제11조(어린이 등에 대한 보호) ① 어린이의 보호자는 교통이 빈번한 도로에서 어린이를 놀게 하여서는 아니 되며, 영\\n유아(6세 미만인 사람을 말한다. 이하 같다)의 보호자는 교통이 빈번한 도로에서 영유아가 혼자 보행하게 하여서는\\n아니 된다. <개정 2014. 12. 30.>\\n② 앞을 보지 못하는 사람(이에 준하는 사람을 포함한다. 이하 같다)의 보호자는 그 사람이 도로를 보행할 때에는 흰\\n색 지팡이를 갖고 다니도록 하거나 앞을 보지 못하는 사람에게 길을 안내하는 개로서 행정안전부령으로 정하는 개\\n(이하 “장애인보조견”이라 한다)를 동반하도록 하는 등 필요한 조치를 하여야 한다.<개정 2013. 3. 23., 2014. 11.\\n19., 2015. 8. 11., 2017. 7. 26.>\\n③ 어린이의 보호자는 도로에서 어린이가 자전거를 타거나 행정안전부령으로 정하는 위험성이 큰 움직이는 놀이기\\n구를 타는 경우에는 어린이의 안전을 위하여 행정안전부령으로 정하는 인명보호 장구(裝具)를 착용하도록 하여야\\n한다.<개정 2013. 3. 23., 2014. 11. 19., 2017. 7. 26.>\\n④ 어린이의 보호자는 도로에서 어린이가 개인형 이동장치를 운전하게 하여서는 아니 된다.<신설 2020. 6. 9.>\\n⑤ 경찰공무원은 신체에 장애가 있는 사람이 도로를 통행하거나 횡단하기 위하여 도움을 요청하거나 도움이 필요\\n하다고 인정하는 경우에는 그 사람이 안전하게 통행하거나 횡단할 수 있도록 필요한 조치를 하여야 한다.<개정\\n2020. 6. 9.>\\n⑥ 경찰공무원은 다음 각 호의 어느 하나에 해당하는 사람을 발견한 경우에는 그들의 안전을 위하여 적절한 조치를\\n하여야 한다.<개정 2014. 12. 30., 2015. 8. 11., 2020. 6. 9.>\\n1. 교통이 빈번한 도로에서 놀고 있는 어린이\\n2. 보호자 없이 도로를 보행하는 영유아\\n3. 앞을 보지 못하는 사람으로서 흰색 지팡이를 가지지 아니하거나 장애인보조견을 동반하지 아니하는 등 필요한\\n조치를 하지 아니하고 다니는 사람\\n4. 횡단보도나 교통이 빈번한 도로에서 보행에 어려움을 겪고 있는 노인(65세 이상인 사람을 말한다. 이하 같다)',\n",
       " '어린이 식생활안전관리 특별법 시행규칙 제3조(어린이 식품안전보호구역 표지판 설치 및 관리기준) 영 제4조에 따른 어린이 식품안전보호구역을 알리는 표지판\\n의 설치 및 관리기준은 별표 1과 같다.',\n",
       " '철도차량운전규칙 제83조(차내신호) 차내신호의 종류 및 그 제한속도는 다음 각 호와 같다.\\n1. 정지신호：열차운행에 지장이 있는 구간으로 운행하는 열차에 대하여 정지하도록 하는 것\\n2. 15신호：정지신호에 의하여 정지한 열차에 대한 신호로서 1시간에 15킬로미터 이하의 속도로 운전하게 하는 것\\n3. 야드신호：입환차량에 대한 신호로서 1시간에 25킬로미터 이하의 속도로 운전하게 하는 것\\n4. 진행신호：열차를 지정된 속도 이하로 운전하게 하는 것',\n",
       " '어린이ㆍ노인 및 장애인 보호구역의 지정 및 관리에 관한 규칙 제10조(어린이ㆍ노인 및 장애인에 대한 교통안전교육 등) ① 시장등이나 경찰서장은 관할 구역 내 보호구역으로 지정\\n된 시설의 장이나 장소의 관리자가 요청하여 필요하다고 인정하는 경우에는 해당 시설 또는 장소를 방문하여 어린\\n이ㆍ노인 또는 장애인을 대상으로 보행안전 등에 관한 교통안전교육을 실시한다. <개정 2022. 4. 20.>\\n② 시장등이나 경찰서장은 어린이ㆍ노인 및 장애인의 안전한 통행을 위하여 필요하다고 인정하는 경우에는 어린이\\nㆍ노인 또는 장애인이 많이 지나다니는 시간대에 관할 보호구역의 주요 횡단보도 등에 경찰공무원이나 모범운전자\\n등을 배치하여 어린이ㆍ노인 및 장애인이 안전하게 도로를 횡단할 수 있도록 지도하여야 한다.',\n",
       " '어린이 식생활안전관리 특별법 시행령 제3조(어린이 식품안전보호구역의 지정 등) ① 특별자치시장ㆍ특별자치도지사ㆍ시장ㆍ군수 또는 구청장(자치구의 구\\n청장을 말한다. 이하 같다)은 법 제5조제1항에 따른 어린이 식품안전보호구역(이하 “어린이 식품안전보호구역”이라\\n한다)을 지정하려면 「지방교육자치에 관한 법률」 제34조제3항에 따른 관할 교육장과 협의해야 한다. <개정 2021.\\n12. 14.>\\n② 특별자치시장ㆍ특별자치도지사ㆍ시장ㆍ군수 또는 구청장은 어린이 식품안전보호구역을 지정하려면 미리 다음\\n각 호의 사항을 조사해야 한다.<개정 2021. 12. 14.>\\n1. 학교 및 학교 주변에 설치된 식품자동판매기의 개수 및 종류\\n2. 학교 안에서 판매하고 있는 주요 식품의 종류 등\\n3. 통학하는 학생 수\\n4. 학교 주변에서 어린이 기호식품을 조리 또는 진열ㆍ판매하는 영업소의 수 및 종류\\n③ 특별자치시장ㆍ특별자치도지사ㆍ시장ㆍ군수 또는 구청장은 어린이 식품안전보호구역을 지정하였을 때에는 총\\n리령으로 정하는 바에 따라 식품의약품안전처장에게 통보하고 관리해야 한다.<개정 2010. 3. 15., 2013. 3. 23.,\\n2021. 12. 14.>\\n④ 특별자치시장ㆍ특별자치도지사ㆍ시장ㆍ군수 또는 구청장은 해당 학교가 폐교하거나 주변의 환경 변화 등이 있\\n는 경우에는 제1항에 따른 관할 교육장과 협의하여 어린이 식품안전보호구역의 지정을 해제하거나 지정구역을 변\\n경할 수 있다.<개정 2021. 12. 14.>',\n",
       " '어린이ㆍ노인 및 장애인 보호구역의 지정 및 관리에 관한 규칙 제3조(보호구역의 지정) ① 초등학교등의 장은 별지 제1호서식의 어린이 보호구역 지정 신청서에 따라 특별시장ㆍ광역\\n시장ㆍ특별자치도지사 또는 시장ㆍ군수(광역시의 군수는 제외한다. 이하 “시장등”이라 한다)에게 초등학교등의 주변\\n도로를 어린이 보호구역으로 지정하여 줄 것을 신청할 수 있다. 다만, 개교 또는 개원을 하기 전의 초등학교등의 경',\n",
       " '도로교통법 제51조(어린이통학버스의 특별보호) ① 어린이통학버스가 도로에 정차하여 어린이나 영유아가 타고 내리는 중임을 표\\n시하는 점멸등 등의 장치를 작동 중일 때에는 어린이통학버스가 정차한 차로와 그 차로의 바로 옆 차로로 통행하는\\n차의 운전자는 어린이통학버스에 이르기 전에 일시정지하여 안전을 확인한 후 서행하여야 한다. <개정 2014. 12.\\n30.>\\n② 제1항의 경우 중앙선이 설치되지 아니한 도로와 편도 1차로인 도로에서는 반대방향에서 진행하는 차의 운전자\\n도 어린이통학버스에 이르기 전에 일시정지하여 안전을 확인한 후 서행하여야 한다.\\n③ 모든 차의 운전자는 어린이나 영유아를 태우고 있다는 표시를 한 상태로 도로를 통행하는 어린이통학버스를 앞\\n지르지 못한다.<개정 2014. 12. 30.>',\n",
       " '식품의약품안전처와 그 소속기관 직제 시행규칙 제11조(식품소비안전국) ① 식품소비안전국장은 고위공무원단에 속하는 일반직공무원ㆍ보건연구관 또는 공업연구관\\n으로 보하되, 그 직위의 직무등급은 나등급으로 한다.\\n② 식품소비안전국에 식생활영양안전정책과ㆍ축산물안전정책과ㆍ농수산물안전정책과 및 식중독예방과를 두되, 식\\n생활영양안전정책과장ㆍ축산물안전정책과장 및 농수산물안전정책과장은 부이사관ㆍ과학기술서기관ㆍ서기관 또는\\n수석전문관으로, 식중독예방과장은 과학기술서기관ㆍ서기관ㆍ보건연구관ㆍ공업연구관 또는 수석전문관으로 보한\\n다.<개정 2020. 1. 9., 2020. 8. 31., 2020. 12. 31., 2023. 6. 1., 2023. 8. 30.>\\n③ 식생활영양안전정책과장은 다음 사항을 분장한다.<개정 2018. 12. 11.>\\n1. 어린이 식생활안전관리, 식품영양 안전에 관한 정책 개발 및 제도개선\\n2. 어린이 식생활안전관리, 식품영양 안전 정책 및 종합계획의 수립 및 총괄\\n3. 「어린이 식생활안전관리 특별법」의 개정 및 운영\\n4. 어린이 식품안전보호구역 및 우수판매업소 지정제도 운영 및 관리\\n5. 시ㆍ군ㆍ구(자치구를 말한다) 식생활 안전ㆍ영양수준 평가 제도의 운영\\n6. 어린이 식생활 안전 지수 조사\\n7. 어린이 기호식품 지정제도 운영\\n8. 어린이 기호식품의 품질인증기준 제정ㆍ개정 및 제도 운영\\n9. 고열량ㆍ저영양 식품의 광고 제한ㆍ판매금지 제도 운영 및 단속에 관한 사항\\n10. 단체급식 안전관리\\n11. 어린이 급식관리지원센터 설치ㆍ운영에 관한 사항\\n12. 어린이 식품안전ㆍ영양 관련 교육ㆍ홍보',\n",
       " '어린이 식생활안전관리 특별법 제6조(어린이 기호식품 조리ㆍ판매업소 관리) ① 특별자치시장ㆍ특별자치도지사ㆍ시장ㆍ군수ㆍ구청장은 어린이 식품\\n안전보호구역에서 어린이 기호식품을 조리 또는 진열ㆍ판매하는 업소 중 대통령령으로 정하는 업소를 어린이 기호\\n식품 조리ㆍ판매업소(이하 “조리ㆍ판매업소”라 한다)로 관리하여야 한다. <개정 2021. 7. 27.>',\n",
       " '어린이 식생활안전관리 특별법 제26조(어린이 식생활 안전관리종합계획 수립) ① 식품의약품안전처장은 3년마다 관계 중앙행정기관의 장과 협의하여\\n어린이 기호식품과 단체급식 등의 안전 및 영양관리 등에 관한 어린이 식생활 안전관리종합계획을 위원회의 심의를\\n거쳐 수립하여야 한다. <개정 2013. 3. 23., 2016. 2. 3.>\\n② 제1항에 따른 어린이 식생활 안전관리종합계획(이하 “종합계획”이라 한다)은 다음 각 호의 사항이 포함되어야 한\\n다.\\n1. 어린이 기호식품 등의 안전정책의 목표 및 기본방향\\n2. 어린이 기호식품 등의 변화와 전망\\n3. 어린이 기호식품 등의 제도개선에 관한 사항\\n4. 어린이 기호식품 등에 관련한 연구 및 기술개발에 관한 사항\\n5. 어린이 기호식품 등의 안전을 위한 국제협력에 관한 사항\\n6. 어린이 기호식품 등을 제조ㆍ가공ㆍ수입ㆍ조리하여 판매하는 자에 대한 지원과 안전성 확보를 위한 지원방법에\\n관한 사항\\n7. 그 밖에 어린이 기호식품 등의 안전성 확보를 위하여 필요한 사항\\n③ 식품의약품안전처장, 관계 중앙행정기관의 장 및 지방자치단체의 장은 종합계획을 기초로 하여 매년 어린이 식\\n생활 안전관리시행계획(이하 “시행계획”이라 한다)을 수립ㆍ시행하여야 한다.<개정 2016. 2. 3.>\\n④ 그 밖에 종합계획 및 시행계획의 수립ㆍ시행에 관하여 필요한 사항은 대통령령으로 정한다.\\n제26조의2(실태조사 등) ① 식품의약품안전처장은 제26조에 따른 종합계획 및 시행계획의 수립ㆍ시행에 필요한 기초\\n자료를 확보하기 위하여 어린이 식생활안전관리에 관한 실태조사를 3년마다 실시하고 그 결과를 공표하여야 한다.\\n② 식품의약품안전처장은 제1항에 따른 실태조사를 위하여 「공공기관의 운영에 관한 법률」에 따른 공공기관의 장,\\n식품산업을 영위하는 자, 그 밖의 관련 기관 및 단체 등에 대하여 필요한 자료의 제출이나 의견의 진술을 요청할 수\\n있다. 이 경우 요청을 받은 자는 정당한 사유가 없으면 요청에 협조하여야 한다.\\n③ 식품의약품안전처는 제1항에 따른 실태조사와 제23조제1항에 따른 식생활 안전지수 조사를 통합하여 실시할 수\\n있다.\\n④ 제1항에 따른 실태조사의 방법 등에 필요한 사항은 총리령으로 정한다.\\n\\n제7장 시정명령 등',\n",
       " '어린이 식생활안전관리 특별법 시행규칙 제19조(식생활 안전ㆍ영양수준 평가 방법) ① 식품의약품안전처장은 제18조에 따른 식생활 안전ㆍ영양수준 조사ㆍ평\\n가를 위하여 관련 전문가 및 공무원 등으로 구성된 평가반을 구성하여 운영할 수 있다. <개정 2013. 3. 23.>\\n② 평가반은 조사ㆍ평가가 끝난 후 1개월 이내에 그 결과를 법 제25조제1항에 따른 어린이식생활안전관리위원회의\\n심의를 거쳐 식품의약품안전처장에게 보고하여야 한다.<개정 2013. 3. 23.>\\n③ 식품의약품안전처장은 제2항에 따른 심의 결과를 지체 없이 인터넷 홈페이지 또는 「신문 등의 진흥에 관한 법률\\n」 제9조제1항에 따라 보급지역을 전국으로 등록한 일반일간신문 등을 이용하여 국민에게 알려야 한다.<개정 2013.\\n3. 23., 2020. 7. 8.>\\n제19조의2(실태조사의 방법 등) ① 법 제26조의2제1항에 따라 식품의약품안전처장은 어린이 및 어린이가 주로 활동하\\n는 공간 등을 대상으로 어린이 식생활안전관리에 관한 실태조사(이하 “실태조사”라 한다)를 실시한다.\\n② 식품의약품안전처장은 제1항에 따른 실태조사를 어린이 식생활안전관리에 관한 전문인력 및 장비를 갖춘 연구\\n기관, 법인 또는 단체에 의뢰하여 실시할 수 있다.\\n③ 제1항에 따른 실태조사에는 다음 각 호의 사항이 포함되어야 한다.\\n1. 어린이 기호식품 생산 및 소비현황\\n2. 어린이 기호식품 생산ㆍ유통ㆍ조리ㆍ판매업소 현황\\n3. 고열량ㆍ저영양 식품 및 고카페인 함유 식품 현황(저감화 현황을 포함한다)\\n4. 학교, 학원, 어린이 놀이시설 주변 등 어린이 생활공간의 식생활 환경 현황\\n5. 어린이 식생활안전교육 현황\\n6. 어린이 식생활 개선 현황\\n7. 그 밖에 어린이 식생활안전과 관련하여 식품의약품안전처장이 필요하다고 인정하는 사항',\n",
       " '어린이 식생활안전관리 특별법 시행령 제2조(어린이 기호식품) 「어린이 식생활안전관리 특별법」(이하 “법”이라 한다) 제2조제2호에 따른 어린이 기호식품은\\n별표 1과 같다.']"
      ]
     },
     "execution_count": 52,
     "metadata": {},
     "output_type": "execute_result"
    }
   ],
   "source": [
    "reranked_docs2"
   ]
  },
  {
   "cell_type": "code",
   "execution_count": 59,
   "metadata": {},
   "outputs": [],
   "source": [
    "# 초기화\n",
    "embedding_model = SentenceTransformerEmbedding(\"jinaai/jina-embeddings-v3\")\n",
    "retriever = ElasticsearchHybridRetriever(\"law-index-v2\", embedding_model)\n",
    "question = \"아르바이트생도 퇴직금을 받을수 있나요?\"\n",
    "\n",
    "# BM25 전용 검색\n",
    "bm25_results = retriever.retrieve_bm25_only(question)\n",
    "\n",
    "# KNN 전용 검색\n",
    "knn_results = retriever.retrieve_knn_only(question)\n",
    "\n",
    "# Hybrid (BM25 + KNN 합본)\n",
    "hybrid_results = retriever.retrieve(question)"
   ]
  },
  {
   "cell_type": "code",
   "execution_count": 60,
   "metadata": {},
   "outputs": [
    {
     "data": {
      "text/plain": [
       "['근로자퇴직급여 보장법 제10조(퇴직금의 시효) 이 법에 따른 퇴직금을 받을 권리는 3년간 행사하지 아니하면 시효로 인하여 소멸한다.',\n",
       " '근로자퇴직급여 보장법 제14조(가입기간) ① 제13조제3호에 따른 가입기간은 퇴직연금제도의 설정 이후 해당 사업에서 근로를 제공하는 기간\\n으로 한다.\\n② 해당 퇴직연금제도의 설정 전에 해당 사업에서 제공한 근로기간에 대하여도 가입기간으로 할 수 있다. 이 경우\\n제8조제2항에 따라 퇴직금을 미리 정산한 기간은 제외한다.',\n",
       " '청원경찰법 제7조(보상금) 청원주는 청원경찰이 다음 각 호의 어느 하나에 해당하게 되면 대통령령으로 정하는 바에 따라 청원경찰\\n본인 또는 그 유족에게 보상금을 지급하여야 한다.\\n1. 직무수행으로 인하여 부상을 입거나, 질병에 걸리거나 또는 사망한 경우\\n2. 직무상의 부상ㆍ질병으로 인하여 퇴직하거나, 퇴직 후 2년 이내에 사망한 경우\\n\\n제7조의2(퇴직금) 청원주는 청원경찰이 퇴직할 때에는 「근로자퇴직급여 보장법」에 따른 퇴직금을 지급하여야 한다. 다\\n만, 국가기관이나 지방자치단체에 근무하는 청원경찰의 퇴직금에 관하여는 따로 대통령령으로 정한다.',\n",
       " '청원산림보호직원 배치에 관한 법률 시행령 제6조(보수 등의 지급) ①산림보호직원의 봉급 및 수당 등의 지급에 관하여는 「공무원보수규정」 및 「공무원수당 등에\\n관한 규정」중 임업서기에 관한 규정을 준용한다. <개정 2005. 6. 30.>\\n②산림보호직원이 퇴직한 때에는 「근로자퇴직급여 보장법」에 의한 퇴직금을 지급하여야 한다. 다만, 국가기관 또는\\n지방자치단체가 청원하여 배치하는 산림보호직원에 대하여는 공무원연금 법령이 정하는 바에 의한다.<개정 2005.\\n6. 30., 2005. 8. 19.>\\n③산림보호직원의 봉급산정의 기준에 있어서의 경력에 산입하는 경력의 범위는 농림축산식품부령으로 정한다.<개\\n정 2008. 2. 29., 2013. 3. 23.>',\n",
       " '근로자퇴직급여 보장법 제44조(벌칙) 다음 각 호의 어느 하나에 해당하는 자는 3년 이하의 징역 또는 3천만원 이하의 벌금에 처한다. 다만, 제\\n1호 및 제2호의 경우 피해자의 명시적인 의사에 반하여 공소를 제기할 수 없다. <개정 2021. 4. 13.>\\n1. 제9조제1항을 위반하여 퇴직금을 지급하지 아니한 자\\n2. 근로자가 퇴직할 때에 제17조제2항ㆍ제3항, 제20조제5항, 제23조의7제2항 또는 제25조제3항을 위반하여 급여를\\n지급하지 아니하거나 부담금 또는 지연이자를 납입하지 아니한 자\\n3. 제27조제4항을 위반하여 가입자 보호조치를 하지 아니한 퇴직연금사업자\\n4. 제33조제3항 및 제4항을 위반한 퇴직연금사업자',\n",
       " '근로기준법 시행령 제18조(지연이자의 적용제외 사유) 법 제37조제2항에서 “그 밖에 대통령령으로 정하는 사유”란 다음 각 호의 어느 하나\\n에 해당하는 경우를 말한다. <개정 2014. 9. 24., 2021. 10. 14.>\\n1. 「임금채권보장법」 제7조제1항제1호부터 제3호까지의 사유 중 어느 하나에 해당하는 경우\\n2. 「채무자 회생 및 파산에 관한 법률」, 「국가재정법」, 「지방자치법」 등 법령상의 제약에 따라 임금 및 퇴직금을 지\\n급할 자금을 확보하기 어려운 경우\\n3. 지급이 지연되고 있는 임금 및 퇴직금의 전부 또는 일부의 존부(存否)를 법원이나 노동위원회에서 다투는 것이\\n적절하다고 인정되는 경우',\n",
       " '진폐의 예방과 진폐근로자의 보호 등에 관한 법률 제33조(벌칙) 다음 각 호의 어느 하나에 해당하는 자는 1천만원 이하의 벌금에 처한다. <개정 2010. 6. 4.>\\n1. 제10조부터 제12조까지의 규정을 위반하여 건강진단을 실시하지 아니한 자\\n2. 제21조제1항을 위반하여 진폐근로자를 분진작업에 종사하게 하려고 채용하거나 제21조제2항에 따른 고용노동\\n부장관의 작업전환조치 지시를 위반한 자\\n3. 제22조를 위반하여 근로자의 청구에도 불구하고 퇴직금을 지급하지 아니한 자 또는 퇴직금 지급을 이유로 그 근\\n로자를 해고하거나 계속근로연수의 산정에 불이익한 처우를 한 자\\n4. 제29조에 따른 신고를 이유로 근로자에게 해고나 그 밖의 불이익한 처우를 한 자',\n",
       " '소득세법 시행령 제57조(퇴직급여충당금의 필요경비계산) ①법 제29조에 따라 필요경비에 산입하는 퇴직급여충당금은 퇴직급여의 지급\\n대상이 되는 종업원(퇴직연금계좌에 가입한 사람은 제외한다. 이하 이 조에서 같다)에게 해당 과세기간에 지급한 총\\n급여액의 100분의 5에 상당하는 금액을 한도로 한다. <개정 2001. 12. 31., 2006. 2. 9., 2010. 2. 18., 2013. 2. 15.>\\n②제1항에 따라 필요경비에 산입하는 퇴직급여충당금의 누적액은 해당 과세기간 종료일 현재 재직하는 종업원이\\n모두 퇴직할 경우에 퇴직급여로 지급하여야 할 금액의 추계액에 다음 각 호의 비율을 곱한 금액을 한도로 한다.<신\\n설 2001. 12. 31., 2006. 2. 9., 2010. 2. 18., 2010. 12. 30.>\\n1. 과세기간이 2010년 1월 1일부터 2010년 12월 31일까지인 경우: 100분의 30\\n2. 과세기간이 2011년 1월 1일부터 2011년 12월 31일까지인 경우: 100분의 25\\n3. 과세기간이 2012년 1월 1일부터 2012년 12월 31일까지인 경우: 100분의 20\\n4. 과세기간이 2013년 1월 1일부터 2013년 12월 31일까지인 경우: 100분의 15\\n5. 과세기간이 2014년 1월 1일부터 2014년 12월 31일까지인 경우: 100분의 10\\n6. 과세기간이 2015년 1월 1일부터 2015년 12월 31일까지인 경우: 100분의 5\\n7. 과세기간이 2016년 1월 1일 이후인 경우: 100분의 0\\n③ 삭제<2013. 2. 15.>\\n④퇴직급여충당금을 필요경비로 계상한 사업자가 종업원에게 퇴직금을 지급하는 때에는 퇴직급여충당금과 먼저\\n상계하여야 한다.\\n⑤ 제2항 각 호의 한도 내에서 필요경비에 산입한 퇴직급여충당금의 누적액에서 퇴직급여충당금을 필요경비에 산\\n입한 과세기간의 다음 과세기간 중 종업원에게 지급한 퇴직금을 뺀 금액이 제2항에 따른 추계액에 같은 항 각 호의\\n비율을 곱한 금액을 초과하더라도 그 초과한 금액은 총수입금액으로 환입하지 아니한다.<신설 2010. 12. 30.>\\n⑥법 제29조의 규정의 적용을 받고자 하는 사업자는 과세표준확정신고서에 기획재정부령이 정하는 퇴직급여충당\\n금명세서를 첨부하여 납세지 관할세무서장에게 제출하여야 한다.<개정 1998. 4. 1., 2008. 2. 29., 2010. 12. 30.>\\n제58조 삭제 <1998. 12. 31.>',\n",
       " '법인세법 제33조(퇴직급여충당금의 손금산입) ① 내국법인이 각 사업연도의 결산을 확정할 때 임원이나 직원의 퇴직급여에 충당\\n하기 위하여 퇴직급여충당금을 손비로 계상한 경우에는 대통령령으로 정하는 바에 따라 계산한 금액의 범위에서 그\\n계상한 퇴직급여충당금을 해당 사업연도의 소득금액을 계산할 때 손금에 산입한다. <개정 2018. 12. 24.>\\n② 제1항에 따라 퇴직급여충당금을 손금에 산입한 내국법인이 임원이나 직원에게 퇴직금을 지급하는 경우에는 그\\n퇴직급여충당금에서 먼저 지급한 것으로 본다.<개정 2018. 12. 24.>\\n③ 제1항에 따라 퇴직급여충당금을 손금에 산입한 내국법인이 합병하거나 분할하는 경우 그 법인의 합병등기일 또\\n는 분할등기일 현재의 해당 퇴직급여충당금 중 합병법인ㆍ분할신설법인 또는 분할합병의 상대방 법인(이하 “합병\\n법인등”이라 한다)이 승계받은 금액은 그 합병법인등이 합병등기일 또는 분할등기일에 가지고 있는 퇴직급여충당\\n금으로 본다.<개정 2018. 12. 24.>\\n④ 사업자가 그 사업을 내국법인에게 포괄적으로 양도하는 경우에 관하여는 제3항을 준용한다.\\n⑤ 제1항을 적용하려는 내국법인은 대통령령으로 정하는 바에 따라 퇴직급여충당금에 관한 명세서를 납세지 관할\\n세무서장에게 제출하여야 한다.<개정 2018. 12. 24.>\\n⑥ 제1항부터 제4항까지의 규정에 따른 퇴직급여충당금의 처리에 필요한 사항은 대통령령으로 정한다.',\n",
       " '선원법 제170조(벌칙) 선박소유자가 다음 각 호의 어느 하나에 해당할 때에는 2년 이하의 징역 또는 2천만원 이하의 벌금에 처\\n한다. <개정 2011. 12. 31., 2015. 1. 6., 2020. 2. 18., 2021. 6. 15.>\\n1. 제30조를 위반하여 강제저축 등을 약정하는 계약을 체결하였을 때\\n2. 제33조제1항을 위반하여 30일분 이상의 통상임금을 지급하지 아니하였을 때\\n3. 제55조제1항 또는 제5항을 위반하여 퇴직금을 지급하지 아니하였을 때\\n3의2. 제61조의2제1항에 따른 실습시간을 초과하거나 같은 조 제2항 또는 제3항에 따른 휴식시간 또는 휴일을 부\\n여하지 아니하고 실습을 실시한 때\\n4. 제62조제5항을 위반하여 유급휴가를 주지 아니하였을 때\\n5. 제69조제1항 또는 제4항을 위반하여 유급휴가를 주지 아니하였을 때\\n6. 제73조제1항 또는 제2항을 위반하여 유급휴가급을 지급하지 아니하였을 때\\n7. 제74조제1항을 위반하여 어선원에게 유급휴가를 주지 아니하였을 때\\n8. 제91조제1항을 위반하여 16세 미만인 사람을 선원으로 사용하였을 때\\n9. 제92조제1항을 위반하여 18세 미만의 선원을 야간작업에 종사시켰을 때\\n10. 제94조제1항을 위반하여 요양하게 하지 아니하였거나 요양에 필요한 비용을 지급하지 아니하였을 때\\n11. 제94조제2항(같은 조 제3항에 해당하지 아니하는 경우로 한정한다)을 위반하여 요양에 필요한 비용을 지급하지\\n아니하였거나, 「국민건강보험법」 제44조에 따라 요양을 받는 선원이 부담하여야 하는 비용을 지급하지 아니하였\\n거나 요양에 필요한 비용을 지급하지 아니하였을 때\\n12. 제96조를 위반하여 상병보상을 하지 아니하였을 때\\n13. 제97조를 위반하여 장해보상을 하지 아니하였을 때\\n14. 제99조제1항 또는 제2항을 위반하여 유족보상을 하지 아니하였을 때\\n15. 제100조를 위반하여 장제비를 지급하지 아니하였을 때\\n16. 제101조를 위반하여 행방불명보상을 하지 아니하였을 때\\n17. 제129조제2항을 위반하여 선원근로계약을 해지하거나 불리한 처우를 하였을 때']"
      ]
     },
     "execution_count": 60,
     "metadata": {},
     "output_type": "execute_result"
    }
   ],
   "source": [
    "bm25_results"
   ]
  },
  {
   "cell_type": "code",
   "execution_count": 61,
   "metadata": {},
   "outputs": [
    {
     "data": {
      "text/plain": [
       "['1959년 12월 31일 이전에 퇴직한 군인의 퇴직급여금지급에 관한 특별법 시행령 제12조(지급방법) 법 제10조의 규정에 의한 퇴직급여금은 신청인이 지정한 금융기관 등의 예금계좌를 이용하여 지급한\\n다. 이 경우 지정한 예금계좌에 퇴직급여금이 입금된 때에는 신청인이 이를 수령한 것으로 본다.',\n",
       " '근로자퇴직급여 보장법 제10조(퇴직금의 시효) 이 법에 따른 퇴직금을 받을 권리는 3년간 행사하지 아니하면 시효로 인하여 소멸한다.',\n",
       " '국가정보원직원법 제20조(당연 퇴직) 직원이 제8조제2항 각 호(제6호는 제외한다)의 어느 하나에 해당할 때에는 당연히 퇴직한다.',\n",
       " '근로기준법 제86조(보상 청구권) 보상을 받을 권리는 퇴직으로 인하여 변경되지 아니하고, 양도나 압류하지 못한다.',\n",
       " '건설근로자의 고용개선 등에 관한 법률 제21조(시효) ① 퇴직공제금을 지급받을 권리와 반환금을 징수할 권리는 5년간 행사하지 아니하면 시효(時效)로 소멸한\\n다. <개정 2019. 11. 26.>\\n② 제1항의 소멸시효에 관하여는 이 법에 규정된 것 외에는 「민법」에 따른다.\\n\\n제4장 보칙 <개정 2007. 12. 27.>',\n",
       " '근로자퇴직급여 보장법 제7조(수급권의 보호) ① 퇴직연금제도(중소기업퇴직연금기금제도를 포함한다. 이하 이 조에서 같다)의 급여를 받을 권\\n리는 양도 또는 압류하거나 담보로 제공할 수 없다. <개정 2021. 4. 13.>\\n② 제1항에도 불구하고 가입자는 주택구입 등 대통령령으로 정하는 사유와 요건을 갖춘 경우에는 대통령령으로 정\\n하는 한도에서 퇴직연금제도의 급여를 받을 권리를 담보로 제공할 수 있다. 이 경우 제26조에 따라 등록한 퇴직연\\n금사업자[중소기업퇴직연금기금제도의 경우 「산업재해보상보험법」 제10조에 따른 근로복지공단(이하 “공단”이라\\n한다)을 말한다]는 제공된 급여를 담보로 한 대출이 이루어지도록 협조하여야 한다.<개정 2021. 4. 13.>',\n",
       " '진폐의 예방과 진폐근로자의 보호 등에 관한 법률 시행규칙 제36조(작업전환조치자에 대한 퇴직금 지급 사유) ① 법 제22조제1항에 따른 퇴직금의 지급 사유는 해당 근로자에 대\\n한 작업전환조치가 된 날에 발생한 것으로 본다.\\n② 법 제22조제1항에 따른 퇴직금의 지급 청구는 서면으로 하여야 한다.\\n제4장 진폐근로자 보호 사업 등 <개정 2008. 9. 25.>',\n",
       " '1959년 12월 31일 이전에 퇴직한 군인의 퇴직급여금지급에 관한 특별법 제10조(신청인의 동의와 퇴직급여금지급) ①퇴직급여금지급결정서 정본을 송달받은 신청인이 퇴직급여금을 지급받고\\n자 하는 때에는 지체없이 그 결정에 대한 동의서를 첨부하여 위원회에 퇴직급여금지급을 청구하여야 한다.\\n②퇴직급여금지급에 관한 절차 등 필요한 사항은 대통령령으로 정한다.',\n",
       " '1959년 12월 31일 이전에 퇴직한 군인의 퇴직급여금지급에 관한 특별법 제7조(지급결정기한) 위원회는 퇴직급여금지급신청을 받은 날부터 90일 이내에 그 지급여부와 지급금액을 결정하여야\\n한다.',\n",
       " '1959년 12월 31일 이전에 퇴직한 군인의 퇴직급여금지급에 관한 특별법 제11조(퇴직급여금지급을 받을 권리의 보호) 이 법에 의한 퇴직급여금지급을 받을 권리는 이를 양도 또는 담보로 제공\\n하거나 압류할 수 없다.']"
      ]
     },
     "execution_count": 61,
     "metadata": {},
     "output_type": "execute_result"
    }
   ],
   "source": [
    "knn_results"
   ]
  },
  {
   "cell_type": "code",
   "execution_count": 62,
   "metadata": {},
   "outputs": [
    {
     "data": {
      "text/plain": [
       "['근로자퇴직급여 보장법 제10조(퇴직금의 시효) 이 법에 따른 퇴직금을 받을 권리는 3년간 행사하지 아니하면 시효로 인하여 소멸한다.',\n",
       " '근로자퇴직급여 보장법 제14조(가입기간) ① 제13조제3호에 따른 가입기간은 퇴직연금제도의 설정 이후 해당 사업에서 근로를 제공하는 기간\\n으로 한다.\\n② 해당 퇴직연금제도의 설정 전에 해당 사업에서 제공한 근로기간에 대하여도 가입기간으로 할 수 있다. 이 경우\\n제8조제2항에 따라 퇴직금을 미리 정산한 기간은 제외한다.',\n",
       " '청원경찰법 제7조(보상금) 청원주는 청원경찰이 다음 각 호의 어느 하나에 해당하게 되면 대통령령으로 정하는 바에 따라 청원경찰\\n본인 또는 그 유족에게 보상금을 지급하여야 한다.\\n1. 직무수행으로 인하여 부상을 입거나, 질병에 걸리거나 또는 사망한 경우\\n2. 직무상의 부상ㆍ질병으로 인하여 퇴직하거나, 퇴직 후 2년 이내에 사망한 경우\\n\\n제7조의2(퇴직금) 청원주는 청원경찰이 퇴직할 때에는 「근로자퇴직급여 보장법」에 따른 퇴직금을 지급하여야 한다. 다\\n만, 국가기관이나 지방자치단체에 근무하는 청원경찰의 퇴직금에 관하여는 따로 대통령령으로 정한다.',\n",
       " '청원산림보호직원 배치에 관한 법률 시행령 제6조(보수 등의 지급) ①산림보호직원의 봉급 및 수당 등의 지급에 관하여는 「공무원보수규정」 및 「공무원수당 등에\\n관한 규정」중 임업서기에 관한 규정을 준용한다. <개정 2005. 6. 30.>\\n②산림보호직원이 퇴직한 때에는 「근로자퇴직급여 보장법」에 의한 퇴직금을 지급하여야 한다. 다만, 국가기관 또는\\n지방자치단체가 청원하여 배치하는 산림보호직원에 대하여는 공무원연금 법령이 정하는 바에 의한다.<개정 2005.\\n6. 30., 2005. 8. 19.>\\n③산림보호직원의 봉급산정의 기준에 있어서의 경력에 산입하는 경력의 범위는 농림축산식품부령으로 정한다.<개\\n정 2008. 2. 29., 2013. 3. 23.>',\n",
       " '근로자퇴직급여 보장법 제44조(벌칙) 다음 각 호의 어느 하나에 해당하는 자는 3년 이하의 징역 또는 3천만원 이하의 벌금에 처한다. 다만, 제\\n1호 및 제2호의 경우 피해자의 명시적인 의사에 반하여 공소를 제기할 수 없다. <개정 2021. 4. 13.>\\n1. 제9조제1항을 위반하여 퇴직금을 지급하지 아니한 자\\n2. 근로자가 퇴직할 때에 제17조제2항ㆍ제3항, 제20조제5항, 제23조의7제2항 또는 제25조제3항을 위반하여 급여를\\n지급하지 아니하거나 부담금 또는 지연이자를 납입하지 아니한 자\\n3. 제27조제4항을 위반하여 가입자 보호조치를 하지 아니한 퇴직연금사업자\\n4. 제33조제3항 및 제4항을 위반한 퇴직연금사업자',\n",
       " '근로기준법 시행령 제18조(지연이자의 적용제외 사유) 법 제37조제2항에서 “그 밖에 대통령령으로 정하는 사유”란 다음 각 호의 어느 하나\\n에 해당하는 경우를 말한다. <개정 2014. 9. 24., 2021. 10. 14.>\\n1. 「임금채권보장법」 제7조제1항제1호부터 제3호까지의 사유 중 어느 하나에 해당하는 경우\\n2. 「채무자 회생 및 파산에 관한 법률」, 「국가재정법」, 「지방자치법」 등 법령상의 제약에 따라 임금 및 퇴직금을 지\\n급할 자금을 확보하기 어려운 경우\\n3. 지급이 지연되고 있는 임금 및 퇴직금의 전부 또는 일부의 존부(存否)를 법원이나 노동위원회에서 다투는 것이\\n적절하다고 인정되는 경우',\n",
       " '진폐의 예방과 진폐근로자의 보호 등에 관한 법률 제33조(벌칙) 다음 각 호의 어느 하나에 해당하는 자는 1천만원 이하의 벌금에 처한다. <개정 2010. 6. 4.>\\n1. 제10조부터 제12조까지의 규정을 위반하여 건강진단을 실시하지 아니한 자\\n2. 제21조제1항을 위반하여 진폐근로자를 분진작업에 종사하게 하려고 채용하거나 제21조제2항에 따른 고용노동\\n부장관의 작업전환조치 지시를 위반한 자\\n3. 제22조를 위반하여 근로자의 청구에도 불구하고 퇴직금을 지급하지 아니한 자 또는 퇴직금 지급을 이유로 그 근\\n로자를 해고하거나 계속근로연수의 산정에 불이익한 처우를 한 자\\n4. 제29조에 따른 신고를 이유로 근로자에게 해고나 그 밖의 불이익한 처우를 한 자',\n",
       " '소득세법 시행령 제57조(퇴직급여충당금의 필요경비계산) ①법 제29조에 따라 필요경비에 산입하는 퇴직급여충당금은 퇴직급여의 지급\\n대상이 되는 종업원(퇴직연금계좌에 가입한 사람은 제외한다. 이하 이 조에서 같다)에게 해당 과세기간에 지급한 총\\n급여액의 100분의 5에 상당하는 금액을 한도로 한다. <개정 2001. 12. 31., 2006. 2. 9., 2010. 2. 18., 2013. 2. 15.>\\n②제1항에 따라 필요경비에 산입하는 퇴직급여충당금의 누적액은 해당 과세기간 종료일 현재 재직하는 종업원이\\n모두 퇴직할 경우에 퇴직급여로 지급하여야 할 금액의 추계액에 다음 각 호의 비율을 곱한 금액을 한도로 한다.<신\\n설 2001. 12. 31., 2006. 2. 9., 2010. 2. 18., 2010. 12. 30.>\\n1. 과세기간이 2010년 1월 1일부터 2010년 12월 31일까지인 경우: 100분의 30\\n2. 과세기간이 2011년 1월 1일부터 2011년 12월 31일까지인 경우: 100분의 25\\n3. 과세기간이 2012년 1월 1일부터 2012년 12월 31일까지인 경우: 100분의 20\\n4. 과세기간이 2013년 1월 1일부터 2013년 12월 31일까지인 경우: 100분의 15\\n5. 과세기간이 2014년 1월 1일부터 2014년 12월 31일까지인 경우: 100분의 10\\n6. 과세기간이 2015년 1월 1일부터 2015년 12월 31일까지인 경우: 100분의 5\\n7. 과세기간이 2016년 1월 1일 이후인 경우: 100분의 0\\n③ 삭제<2013. 2. 15.>\\n④퇴직급여충당금을 필요경비로 계상한 사업자가 종업원에게 퇴직금을 지급하는 때에는 퇴직급여충당금과 먼저\\n상계하여야 한다.\\n⑤ 제2항 각 호의 한도 내에서 필요경비에 산입한 퇴직급여충당금의 누적액에서 퇴직급여충당금을 필요경비에 산\\n입한 과세기간의 다음 과세기간 중 종업원에게 지급한 퇴직금을 뺀 금액이 제2항에 따른 추계액에 같은 항 각 호의\\n비율을 곱한 금액을 초과하더라도 그 초과한 금액은 총수입금액으로 환입하지 아니한다.<신설 2010. 12. 30.>\\n⑥법 제29조의 규정의 적용을 받고자 하는 사업자는 과세표준확정신고서에 기획재정부령이 정하는 퇴직급여충당\\n금명세서를 첨부하여 납세지 관할세무서장에게 제출하여야 한다.<개정 1998. 4. 1., 2008. 2. 29., 2010. 12. 30.>\\n제58조 삭제 <1998. 12. 31.>',\n",
       " '법인세법 제33조(퇴직급여충당금의 손금산입) ① 내국법인이 각 사업연도의 결산을 확정할 때 임원이나 직원의 퇴직급여에 충당\\n하기 위하여 퇴직급여충당금을 손비로 계상한 경우에는 대통령령으로 정하는 바에 따라 계산한 금액의 범위에서 그\\n계상한 퇴직급여충당금을 해당 사업연도의 소득금액을 계산할 때 손금에 산입한다. <개정 2018. 12. 24.>\\n② 제1항에 따라 퇴직급여충당금을 손금에 산입한 내국법인이 임원이나 직원에게 퇴직금을 지급하는 경우에는 그\\n퇴직급여충당금에서 먼저 지급한 것으로 본다.<개정 2018. 12. 24.>\\n③ 제1항에 따라 퇴직급여충당금을 손금에 산입한 내국법인이 합병하거나 분할하는 경우 그 법인의 합병등기일 또\\n는 분할등기일 현재의 해당 퇴직급여충당금 중 합병법인ㆍ분할신설법인 또는 분할합병의 상대방 법인(이하 “합병\\n법인등”이라 한다)이 승계받은 금액은 그 합병법인등이 합병등기일 또는 분할등기일에 가지고 있는 퇴직급여충당\\n금으로 본다.<개정 2018. 12. 24.>\\n④ 사업자가 그 사업을 내국법인에게 포괄적으로 양도하는 경우에 관하여는 제3항을 준용한다.\\n⑤ 제1항을 적용하려는 내국법인은 대통령령으로 정하는 바에 따라 퇴직급여충당금에 관한 명세서를 납세지 관할\\n세무서장에게 제출하여야 한다.<개정 2018. 12. 24.>\\n⑥ 제1항부터 제4항까지의 규정에 따른 퇴직급여충당금의 처리에 필요한 사항은 대통령령으로 정한다.',\n",
       " '선원법 제170조(벌칙) 선박소유자가 다음 각 호의 어느 하나에 해당할 때에는 2년 이하의 징역 또는 2천만원 이하의 벌금에 처\\n한다. <개정 2011. 12. 31., 2015. 1. 6., 2020. 2. 18., 2021. 6. 15.>\\n1. 제30조를 위반하여 강제저축 등을 약정하는 계약을 체결하였을 때\\n2. 제33조제1항을 위반하여 30일분 이상의 통상임금을 지급하지 아니하였을 때\\n3. 제55조제1항 또는 제5항을 위반하여 퇴직금을 지급하지 아니하였을 때\\n3의2. 제61조의2제1항에 따른 실습시간을 초과하거나 같은 조 제2항 또는 제3항에 따른 휴식시간 또는 휴일을 부\\n여하지 아니하고 실습을 실시한 때\\n4. 제62조제5항을 위반하여 유급휴가를 주지 아니하였을 때\\n5. 제69조제1항 또는 제4항을 위반하여 유급휴가를 주지 아니하였을 때\\n6. 제73조제1항 또는 제2항을 위반하여 유급휴가급을 지급하지 아니하였을 때\\n7. 제74조제1항을 위반하여 어선원에게 유급휴가를 주지 아니하였을 때\\n8. 제91조제1항을 위반하여 16세 미만인 사람을 선원으로 사용하였을 때\\n9. 제92조제1항을 위반하여 18세 미만의 선원을 야간작업에 종사시켰을 때\\n10. 제94조제1항을 위반하여 요양하게 하지 아니하였거나 요양에 필요한 비용을 지급하지 아니하였을 때\\n11. 제94조제2항(같은 조 제3항에 해당하지 아니하는 경우로 한정한다)을 위반하여 요양에 필요한 비용을 지급하지\\n아니하였거나, 「국민건강보험법」 제44조에 따라 요양을 받는 선원이 부담하여야 하는 비용을 지급하지 아니하였\\n거나 요양에 필요한 비용을 지급하지 아니하였을 때\\n12. 제96조를 위반하여 상병보상을 하지 아니하였을 때\\n13. 제97조를 위반하여 장해보상을 하지 아니하였을 때\\n14. 제99조제1항 또는 제2항을 위반하여 유족보상을 하지 아니하였을 때\\n15. 제100조를 위반하여 장제비를 지급하지 아니하였을 때\\n16. 제101조를 위반하여 행방불명보상을 하지 아니하였을 때\\n17. 제129조제2항을 위반하여 선원근로계약을 해지하거나 불리한 처우를 하였을 때',\n",
       " '1959년 12월 31일 이전에 퇴직한 군인의 퇴직급여금지급에 관한 특별법 시행령 제12조(지급방법) 법 제10조의 규정에 의한 퇴직급여금은 신청인이 지정한 금융기관 등의 예금계좌를 이용하여 지급한\\n다. 이 경우 지정한 예금계좌에 퇴직급여금이 입금된 때에는 신청인이 이를 수령한 것으로 본다.',\n",
       " '국가정보원직원법 제20조(당연 퇴직) 직원이 제8조제2항 각 호(제6호는 제외한다)의 어느 하나에 해당할 때에는 당연히 퇴직한다.',\n",
       " '근로기준법 제86조(보상 청구권) 보상을 받을 권리는 퇴직으로 인하여 변경되지 아니하고, 양도나 압류하지 못한다.',\n",
       " '건설근로자의 고용개선 등에 관한 법률 제21조(시효) ① 퇴직공제금을 지급받을 권리와 반환금을 징수할 권리는 5년간 행사하지 아니하면 시효(時效)로 소멸한\\n다. <개정 2019. 11. 26.>\\n② 제1항의 소멸시효에 관하여는 이 법에 규정된 것 외에는 「민법」에 따른다.\\n\\n제4장 보칙 <개정 2007. 12. 27.>',\n",
       " '근로자퇴직급여 보장법 제7조(수급권의 보호) ① 퇴직연금제도(중소기업퇴직연금기금제도를 포함한다. 이하 이 조에서 같다)의 급여를 받을 권\\n리는 양도 또는 압류하거나 담보로 제공할 수 없다. <개정 2021. 4. 13.>\\n② 제1항에도 불구하고 가입자는 주택구입 등 대통령령으로 정하는 사유와 요건을 갖춘 경우에는 대통령령으로 정\\n하는 한도에서 퇴직연금제도의 급여를 받을 권리를 담보로 제공할 수 있다. 이 경우 제26조에 따라 등록한 퇴직연\\n금사업자[중소기업퇴직연금기금제도의 경우 「산업재해보상보험법」 제10조에 따른 근로복지공단(이하 “공단”이라\\n한다)을 말한다]는 제공된 급여를 담보로 한 대출이 이루어지도록 협조하여야 한다.<개정 2021. 4. 13.>',\n",
       " '진폐의 예방과 진폐근로자의 보호 등에 관한 법률 시행규칙 제36조(작업전환조치자에 대한 퇴직금 지급 사유) ① 법 제22조제1항에 따른 퇴직금의 지급 사유는 해당 근로자에 대\\n한 작업전환조치가 된 날에 발생한 것으로 본다.\\n② 법 제22조제1항에 따른 퇴직금의 지급 청구는 서면으로 하여야 한다.\\n제4장 진폐근로자 보호 사업 등 <개정 2008. 9. 25.>',\n",
       " '1959년 12월 31일 이전에 퇴직한 군인의 퇴직급여금지급에 관한 특별법 제10조(신청인의 동의와 퇴직급여금지급) ①퇴직급여금지급결정서 정본을 송달받은 신청인이 퇴직급여금을 지급받고\\n자 하는 때에는 지체없이 그 결정에 대한 동의서를 첨부하여 위원회에 퇴직급여금지급을 청구하여야 한다.\\n②퇴직급여금지급에 관한 절차 등 필요한 사항은 대통령령으로 정한다.',\n",
       " '1959년 12월 31일 이전에 퇴직한 군인의 퇴직급여금지급에 관한 특별법 제7조(지급결정기한) 위원회는 퇴직급여금지급신청을 받은 날부터 90일 이내에 그 지급여부와 지급금액을 결정하여야\\n한다.',\n",
       " '1959년 12월 31일 이전에 퇴직한 군인의 퇴직급여금지급에 관한 특별법 제11조(퇴직급여금지급을 받을 권리의 보호) 이 법에 의한 퇴직급여금지급을 받을 권리는 이를 양도 또는 담보로 제공\\n하거나 압류할 수 없다.']"
      ]
     },
     "execution_count": 62,
     "metadata": {},
     "output_type": "execute_result"
    }
   ],
   "source": [
    "hybrid_results"
   ]
  },
  {
   "cell_type": "code",
   "execution_count": 63,
   "metadata": {},
   "outputs": [
    {
     "name": "stdout",
     "output_type": "stream",
     "text": [
      "KNN 결과 개수: 10\n"
     ]
    }
   ],
   "source": [
    "knn_docs = retriever.retrieve_knn_only(\"어린이 보호구역 속도 제한\")\n",
    "print(\"KNN 결과 개수:\", len(knn_docs))"
   ]
  },
  {
   "cell_type": "code",
   "execution_count": 64,
   "metadata": {},
   "outputs": [
    {
     "name": "stdout",
     "output_type": "stream",
     "text": [
      "BM25 결과 개수: 10\n"
     ]
    }
   ],
   "source": [
    "bm25_docs = retriever.retrieve_bm25_only(\"어린이 보호구역 속도 제한\")\n",
    "print(\"BM25 결과 개수:\", len(bm25_docs))"
   ]
  },
  {
   "cell_type": "code",
   "execution_count": 65,
   "metadata": {},
   "outputs": [
    {
     "ename": "SyntaxError",
     "evalue": "invalid syntax (18905694.py, line 1)",
     "output_type": "error",
     "traceback": [
      "\u001b[0;36m  Cell \u001b[0;32mIn[65], line 1\u001b[0;36m\u001b[0m\n\u001b[0;31m    curl -X POST \"localhost:9200/law-index-v2/_search\" -H 'Content-Type: application/json' -d '\u001b[0m\n\u001b[0m            ^\u001b[0m\n\u001b[0;31mSyntaxError\u001b[0m\u001b[0;31m:\u001b[0m invalid syntax\n"
     ]
    }
   ],
   "source": [
    "curl -X POST \"localhost:9200/law-index-v2/_search\" -H 'Content-Type: application/json' -d '\n",
    "{\n",
    "  \"query\": {\n",
    "    \"match\": {\n",
    "      \"text\": \"어린이 보호구역 속도 제한\"\n",
    "    }\n",
    "  }\n",
    "}'"
   ]
  },
  {
   "cell_type": "code",
   "execution_count": null,
   "metadata": {},
   "outputs": [],
   "source": []
  },
  {
   "cell_type": "code",
   "execution_count": null,
   "metadata": {},
   "outputs": [],
   "source": []
  },
  {
   "cell_type": "code",
   "execution_count": null,
   "metadata": {},
   "outputs": [],
   "source": []
  },
  {
   "cell_type": "code",
   "execution_count": null,
   "metadata": {},
   "outputs": [],
   "source": []
  },
  {
   "cell_type": "code",
   "execution_count": null,
   "metadata": {},
   "outputs": [],
   "source": []
  }
 ],
 "metadata": {
  "kernelspec": {
   "display_name": "dl",
   "language": "python",
   "name": "python3"
  },
  "language_info": {
   "codemirror_mode": {
    "name": "ipython",
    "version": 3
   },
   "file_extension": ".py",
   "mimetype": "text/x-python",
   "name": "python",
   "nbconvert_exporter": "python",
   "pygments_lexer": "ipython3",
   "version": "3.9.19"
  }
 },
 "nbformat": 4,
 "nbformat_minor": 2
}
